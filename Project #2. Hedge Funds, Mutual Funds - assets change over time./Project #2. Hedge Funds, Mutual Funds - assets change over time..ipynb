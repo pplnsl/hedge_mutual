{
 "cells": [
  {
   "cell_type": "markdown",
   "id": "1ad7fd55",
   "metadata": {},
   "source": [
    "# Project #2 Outline"
   ]
  },
  {
   "cell_type": "markdown",
   "id": "33dec82e",
   "metadata": {},
   "source": [
    "## Title: Hedge Funds, Mutual Funds - assets change over time. \n"
   ]
  },
  {
   "cell_type": "markdown",
   "id": "a763737e",
   "metadata": {},
   "source": [
    "## Overview:\n",
    "This mini-research aims to illustrate the changes in assets under management for financial institutions in the US, specifically focusing on Hedge Funds and Mutual Funds. It examines the scale of these changes for each type of institution and how they differ. "
   ]
  },
  {
   "cell_type": "markdown",
   "id": "69422d5f",
   "metadata": {},
   "source": [
    "<h3 style=\"color:red;\">!ALERT</h3> \n",
    "\n",
    "The data may not necessarily represent accurate information. This project is conducted for experimental and educational purposes, specifically in programming, data analysis, and theorization."
   ]
  },
  {
   "cell_type": "code",
   "execution_count": 1,
   "id": "37fb1a66",
   "metadata": {},
   "outputs": [],
   "source": [
    "import numpy as np\n",
    "import pandas as pd\n",
    "import warnings\n",
    "warnings.simplefilter(\"ignore\")"
   ]
  },
  {
   "cell_type": "code",
   "execution_count": 2,
   "id": "58613506",
   "metadata": {},
   "outputs": [
    {
     "data": {
      "text/html": [
       "        <script type=\"text/javascript\">\n",
       "        window.PlotlyConfig = {MathJaxConfig: 'local'};\n",
       "        if (window.MathJax && window.MathJax.Hub && window.MathJax.Hub.Config) {window.MathJax.Hub.Config({SVG: {font: \"STIX-Web\"}});}\n",
       "        if (typeof require !== 'undefined') {\n",
       "        require.undef(\"plotly\");\n",
       "        requirejs.config({\n",
       "            paths: {\n",
       "                'plotly': ['https://cdn.plot.ly/plotly-2.34.0.min']\n",
       "            }\n",
       "        });\n",
       "        require(['plotly'], function(Plotly) {\n",
       "            window._Plotly = Plotly;\n",
       "        });\n",
       "        }\n",
       "        </script>\n",
       "        "
      ]
     },
     "metadata": {},
     "output_type": "display_data"
    },
    {
     "data": {
      "text/html": [
       "        <script type=\"text/javascript\">\n",
       "        window.PlotlyConfig = {MathJaxConfig: 'local'};\n",
       "        if (window.MathJax && window.MathJax.Hub && window.MathJax.Hub.Config) {window.MathJax.Hub.Config({SVG: {font: \"STIX-Web\"}});}\n",
       "        if (typeof require !== 'undefined') {\n",
       "        require.undef(\"plotly\");\n",
       "        requirejs.config({\n",
       "            paths: {\n",
       "                'plotly': ['https://cdn.plot.ly/plotly-2.34.0.min']\n",
       "            }\n",
       "        });\n",
       "        require(['plotly'], function(Plotly) {\n",
       "            window._Plotly = Plotly;\n",
       "        });\n",
       "        }\n",
       "        </script>\n",
       "        "
      ]
     },
     "metadata": {},
     "output_type": "display_data"
    }
   ],
   "source": [
    "import cufflinks as cf\n",
    "import plotly.express as px\n",
    "import plotly.graph_objects as go\n",
    "from plotly.offline import download_plotlyjs, init_notebook_mode, plot, iplot\n",
    "init_notebook_mode(connected=True)\n",
    "cf.go_offline()"
   ]
  },
  {
   "cell_type": "code",
   "execution_count": 3,
   "id": "eee737ba",
   "metadata": {},
   "outputs": [
    {
     "name": "stdout",
     "output_type": "stream",
     "text": [
      "Requirement already satisfied: xlrd in /Users/polina/anaconda3/lib/python3.11/site-packages (2.0.1)\r\n"
     ]
    }
   ],
   "source": [
    "!pip install xlrd"
   ]
  },
  {
   "cell_type": "markdown",
   "id": "29bc3fd1",
   "metadata": {},
   "source": [
    "## Q1: Assets under management in Hedge Funds (US) 1980-2024?\n",
    "### About:\n",
    "The following data was sourced from: https://www.barclayhedge.com/solutions/assets-under-management/hedge-fund-assets-under-management/hedge-fund-industry, https://www.elibrary.imf.org/display/book/9781557757364/ch03.xml#ch03tb01. \n"
   ]
  },
  {
   "cell_type": "code",
   "execution_count": 4,
   "id": "a4549535",
   "metadata": {},
   "outputs": [
    {
     "data": {
      "text/html": [
       "<div>\n",
       "<style scoped>\n",
       "    .dataframe tbody tr th:only-of-type {\n",
       "        vertical-align: middle;\n",
       "    }\n",
       "\n",
       "    .dataframe tbody tr th {\n",
       "        vertical-align: top;\n",
       "    }\n",
       "\n",
       "    .dataframe thead th {\n",
       "        text-align: right;\n",
       "    }\n",
       "</style>\n",
       "<table border=\"1\" class=\"dataframe\">\n",
       "  <thead>\n",
       "    <tr style=\"text-align: right;\">\n",
       "      <th></th>\n",
       "      <th>Hedge Fund Industry AUM</th>\n",
       "      <th>Unnamed: 1</th>\n",
       "      <th>Unnamed: 2</th>\n",
       "      <th>Unnamed: 3</th>\n",
       "      <th>Unnamed: 4</th>\n",
       "    </tr>\n",
       "  </thead>\n",
       "  <tbody>\n",
       "    <tr>\n",
       "      <th>0</th>\n",
       "      <td>Year</td>\n",
       "      <td>1st Quarter $ billions</td>\n",
       "      <td>2nd Quarter $ billions</td>\n",
       "      <td>3rd Quarter $ billions</td>\n",
       "      <td>4th Quarter $ billions</td>\n",
       "    </tr>\n",
       "    <tr>\n",
       "      <th>1</th>\n",
       "      <td>2000</td>\n",
       "      <td>214.34</td>\n",
       "      <td>225.8</td>\n",
       "      <td>247.21</td>\n",
       "      <td>263.46</td>\n",
       "    </tr>\n",
       "    <tr>\n",
       "      <th>2</th>\n",
       "      <td>2001</td>\n",
       "      <td>292.92</td>\n",
       "      <td>329.05</td>\n",
       "      <td>346.32</td>\n",
       "      <td>370.3</td>\n",
       "    </tr>\n",
       "    <tr>\n",
       "      <th>3</th>\n",
       "      <td>2002</td>\n",
       "      <td>393.28</td>\n",
       "      <td>417.53</td>\n",
       "      <td>428.13</td>\n",
       "      <td>455.41</td>\n",
       "    </tr>\n",
       "    <tr>\n",
       "      <th>4</th>\n",
       "      <td>2003</td>\n",
       "      <td>517.57</td>\n",
       "      <td>596.1</td>\n",
       "      <td>671.29</td>\n",
       "      <td>781.39</td>\n",
       "    </tr>\n",
       "    <tr>\n",
       "      <th>5</th>\n",
       "      <td>2004</td>\n",
       "      <td>918.18</td>\n",
       "      <td>1010.31</td>\n",
       "      <td>1075.77</td>\n",
       "      <td>1185.73</td>\n",
       "    </tr>\n",
       "    <tr>\n",
       "      <th>6</th>\n",
       "      <td>2005</td>\n",
       "      <td>1242.85</td>\n",
       "      <td>1262.29</td>\n",
       "      <td>1304.14</td>\n",
       "      <td>1319.13</td>\n",
       "    </tr>\n",
       "    <tr>\n",
       "      <th>7</th>\n",
       "      <td>2006</td>\n",
       "      <td>1409.16</td>\n",
       "      <td>1464.4</td>\n",
       "      <td>1589.45</td>\n",
       "      <td>1695.83</td>\n",
       "    </tr>\n",
       "    <tr>\n",
       "      <th>8</th>\n",
       "      <td>2007</td>\n",
       "      <td>1870.3</td>\n",
       "      <td>2084.65</td>\n",
       "      <td>2214.13</td>\n",
       "      <td>2295.46</td>\n",
       "    </tr>\n",
       "    <tr>\n",
       "      <th>9</th>\n",
       "      <td>2008</td>\n",
       "      <td>2263.09</td>\n",
       "      <td>2348.84</td>\n",
       "      <td>1963.7</td>\n",
       "      <td>1449.76</td>\n",
       "    </tr>\n",
       "    <tr>\n",
       "      <th>10</th>\n",
       "      <td>2009</td>\n",
       "      <td>1164.23</td>\n",
       "      <td>1189.41</td>\n",
       "      <td>1303.71</td>\n",
       "      <td>1367.39</td>\n",
       "    </tr>\n",
       "    <tr>\n",
       "      <th>11</th>\n",
       "      <td>2010</td>\n",
       "      <td>1341.27</td>\n",
       "      <td>1292.34</td>\n",
       "      <td>1354.62</td>\n",
       "      <td>1402.73</td>\n",
       "    </tr>\n",
       "    <tr>\n",
       "      <th>12</th>\n",
       "      <td>2011</td>\n",
       "      <td>1510.36</td>\n",
       "      <td>1580.45</td>\n",
       "      <td>1399.51</td>\n",
       "      <td>1408.39</td>\n",
       "    </tr>\n",
       "    <tr>\n",
       "      <th>13</th>\n",
       "      <td>2012</td>\n",
       "      <td>1507.99</td>\n",
       "      <td>1467.75</td>\n",
       "      <td>1508.63</td>\n",
       "      <td>1481.92</td>\n",
       "    </tr>\n",
       "    <tr>\n",
       "      <th>14</th>\n",
       "      <td>2013</td>\n",
       "      <td>1606.74</td>\n",
       "      <td>1582.91</td>\n",
       "      <td>1760.03</td>\n",
       "      <td>1883.75</td>\n",
       "    </tr>\n",
       "    <tr>\n",
       "      <th>15</th>\n",
       "      <td>2014</td>\n",
       "      <td>2023.06</td>\n",
       "      <td>2067.03</td>\n",
       "      <td>2066.99</td>\n",
       "      <td>2024.83</td>\n",
       "    </tr>\n",
       "    <tr>\n",
       "      <th>16</th>\n",
       "      <td>2015</td>\n",
       "      <td>2099.06</td>\n",
       "      <td>2263.04</td>\n",
       "      <td>2244.69</td>\n",
       "      <td>2219.24</td>\n",
       "    </tr>\n",
       "    <tr>\n",
       "      <th>17</th>\n",
       "      <td>2016</td>\n",
       "      <td>2322.57</td>\n",
       "      <td>2371.18</td>\n",
       "      <td>2412.63</td>\n",
       "      <td>2367.48</td>\n",
       "    </tr>\n",
       "    <tr>\n",
       "      <th>18</th>\n",
       "      <td>2017</td>\n",
       "      <td>2451.77</td>\n",
       "      <td>2594.34</td>\n",
       "      <td>2780.9</td>\n",
       "      <td>2905.67</td>\n",
       "    </tr>\n",
       "    <tr>\n",
       "      <th>19</th>\n",
       "      <td>2018</td>\n",
       "      <td>2993.66</td>\n",
       "      <td>3014.3</td>\n",
       "      <td>3064.87</td>\n",
       "      <td>2878.1</td>\n",
       "    </tr>\n",
       "    <tr>\n",
       "      <th>20</th>\n",
       "      <td>2019</td>\n",
       "      <td>3011.3</td>\n",
       "      <td>3150.7</td>\n",
       "      <td>3054.9</td>\n",
       "      <td>3194.01</td>\n",
       "    </tr>\n",
       "    <tr>\n",
       "      <th>21</th>\n",
       "      <td>2020</td>\n",
       "      <td>2857.1</td>\n",
       "      <td>3112.6</td>\n",
       "      <td>3379.56</td>\n",
       "      <td>3826.3</td>\n",
       "    </tr>\n",
       "    <tr>\n",
       "      <th>22</th>\n",
       "      <td>2021</td>\n",
       "      <td>4072.5</td>\n",
       "      <td>4323.9</td>\n",
       "      <td>4534</td>\n",
       "      <td>4797.6</td>\n",
       "    </tr>\n",
       "    <tr>\n",
       "      <th>23</th>\n",
       "      <td>2022</td>\n",
       "      <td>5136.4</td>\n",
       "      <td>4872.1</td>\n",
       "      <td>4712.8</td>\n",
       "      <td>4843.6</td>\n",
       "    </tr>\n",
       "    <tr>\n",
       "      <th>24</th>\n",
       "      <td>2023</td>\n",
       "      <td>5033</td>\n",
       "      <td>5138.7</td>\n",
       "      <td>4959.1</td>\n",
       "      <td>5051.6</td>\n",
       "    </tr>\n",
       "    <tr>\n",
       "      <th>25</th>\n",
       "      <td>2024</td>\n",
       "      <td>5148.9</td>\n",
       "      <td>NaN</td>\n",
       "      <td>NaN</td>\n",
       "      <td>NaN</td>\n",
       "    </tr>\n",
       "  </tbody>\n",
       "</table>\n",
       "</div>"
      ],
      "text/plain": [
       "   Hedge Fund Industry AUM              Unnamed: 1              Unnamed: 2  \\\n",
       "0                     Year  1st Quarter $ billions  2nd Quarter $ billions   \n",
       "1                     2000                  214.34                   225.8   \n",
       "2                     2001                  292.92                  329.05   \n",
       "3                     2002                  393.28                  417.53   \n",
       "4                     2003                  517.57                   596.1   \n",
       "5                     2004                  918.18                 1010.31   \n",
       "6                     2005                 1242.85                 1262.29   \n",
       "7                     2006                 1409.16                  1464.4   \n",
       "8                     2007                  1870.3                 2084.65   \n",
       "9                     2008                 2263.09                 2348.84   \n",
       "10                    2009                 1164.23                 1189.41   \n",
       "11                    2010                 1341.27                 1292.34   \n",
       "12                    2011                 1510.36                 1580.45   \n",
       "13                    2012                 1507.99                 1467.75   \n",
       "14                    2013                 1606.74                 1582.91   \n",
       "15                    2014                 2023.06                 2067.03   \n",
       "16                    2015                 2099.06                 2263.04   \n",
       "17                    2016                 2322.57                 2371.18   \n",
       "18                    2017                 2451.77                 2594.34   \n",
       "19                    2018                 2993.66                  3014.3   \n",
       "20                    2019                  3011.3                  3150.7   \n",
       "21                    2020                  2857.1                  3112.6   \n",
       "22                    2021                  4072.5                  4323.9   \n",
       "23                    2022                  5136.4                  4872.1   \n",
       "24                    2023                    5033                  5138.7   \n",
       "25                    2024                  5148.9                     NaN   \n",
       "\n",
       "                Unnamed: 3              Unnamed: 4  \n",
       "0   3rd Quarter $ billions  4th Quarter $ billions  \n",
       "1                   247.21                  263.46  \n",
       "2                   346.32                   370.3  \n",
       "3                   428.13                  455.41  \n",
       "4                   671.29                  781.39  \n",
       "5                  1075.77                 1185.73  \n",
       "6                  1304.14                 1319.13  \n",
       "7                  1589.45                 1695.83  \n",
       "8                  2214.13                 2295.46  \n",
       "9                   1963.7                 1449.76  \n",
       "10                 1303.71                 1367.39  \n",
       "11                 1354.62                 1402.73  \n",
       "12                 1399.51                 1408.39  \n",
       "13                 1508.63                 1481.92  \n",
       "14                 1760.03                 1883.75  \n",
       "15                 2066.99                 2024.83  \n",
       "16                 2244.69                 2219.24  \n",
       "17                 2412.63                 2367.48  \n",
       "18                  2780.9                 2905.67  \n",
       "19                 3064.87                  2878.1  \n",
       "20                  3054.9                 3194.01  \n",
       "21                 3379.56                  3826.3  \n",
       "22                    4534                  4797.6  \n",
       "23                  4712.8                  4843.6  \n",
       "24                  4959.1                  5051.6  \n",
       "25                     NaN                     NaN  "
      ]
     },
     "execution_count": 4,
     "metadata": {},
     "output_type": "execute_result"
    }
   ],
   "source": [
    "aum_hedge=pd.read_excel(\"AUM_HF.xls\")\n",
    "aum_hedge"
   ]
  },
  {
   "cell_type": "code",
   "execution_count": 5,
   "id": "9d274edc",
   "metadata": {},
   "outputs": [],
   "source": [
    "aum_hedge.rename(columns={\"Hedge Fund Industry AUM\":\"Year\",\"Unnamed: 4\":\"Q4\",\n",
    "                          \"Unnamed: 3\":\"Q3\",\"Unnamed: 1\":\"Q1\",\"Unnamed: 2\":\"Q2\"}, inplace=True)\n",
    "\n",
    "aum_hedge.drop(index=0,axis=1, inplace=True)\n",
    "aum_hedge.set_index([\"Year\"], inplace=True)"
   ]
  },
  {
   "cell_type": "code",
   "execution_count": 6,
   "id": "beb062cc",
   "metadata": {},
   "outputs": [
    {
     "data": {
      "text/html": [
       "<div>\n",
       "<style scoped>\n",
       "    .dataframe tbody tr th:only-of-type {\n",
       "        vertical-align: middle;\n",
       "    }\n",
       "\n",
       "    .dataframe tbody tr th {\n",
       "        vertical-align: top;\n",
       "    }\n",
       "\n",
       "    .dataframe thead th {\n",
       "        text-align: right;\n",
       "    }\n",
       "</style>\n",
       "<table border=\"1\" class=\"dataframe\">\n",
       "  <thead>\n",
       "    <tr style=\"text-align: right;\">\n",
       "      <th></th>\n",
       "      <th>Average (billions)</th>\n",
       "    </tr>\n",
       "    <tr>\n",
       "      <th>Year</th>\n",
       "      <th></th>\n",
       "    </tr>\n",
       "  </thead>\n",
       "  <tbody>\n",
       "    <tr>\n",
       "      <th>2000</th>\n",
       "      <td>237.7025</td>\n",
       "    </tr>\n",
       "    <tr>\n",
       "      <th>2001</th>\n",
       "      <td>334.6475</td>\n",
       "    </tr>\n",
       "    <tr>\n",
       "      <th>2002</th>\n",
       "      <td>423.5875</td>\n",
       "    </tr>\n",
       "    <tr>\n",
       "      <th>2003</th>\n",
       "      <td>641.5875</td>\n",
       "    </tr>\n",
       "    <tr>\n",
       "      <th>2004</th>\n",
       "      <td>1047.4975</td>\n",
       "    </tr>\n",
       "    <tr>\n",
       "      <th>2005</th>\n",
       "      <td>1282.1025</td>\n",
       "    </tr>\n",
       "    <tr>\n",
       "      <th>2006</th>\n",
       "      <td>1539.71</td>\n",
       "    </tr>\n",
       "    <tr>\n",
       "      <th>2007</th>\n",
       "      <td>2116.135</td>\n",
       "    </tr>\n",
       "    <tr>\n",
       "      <th>2008</th>\n",
       "      <td>2006.3475</td>\n",
       "    </tr>\n",
       "    <tr>\n",
       "      <th>2009</th>\n",
       "      <td>1256.185</td>\n",
       "    </tr>\n",
       "    <tr>\n",
       "      <th>2010</th>\n",
       "      <td>1347.74</td>\n",
       "    </tr>\n",
       "    <tr>\n",
       "      <th>2011</th>\n",
       "      <td>1474.6775</td>\n",
       "    </tr>\n",
       "    <tr>\n",
       "      <th>2012</th>\n",
       "      <td>1491.5725</td>\n",
       "    </tr>\n",
       "    <tr>\n",
       "      <th>2013</th>\n",
       "      <td>1708.3575</td>\n",
       "    </tr>\n",
       "    <tr>\n",
       "      <th>2014</th>\n",
       "      <td>2045.4775</td>\n",
       "    </tr>\n",
       "    <tr>\n",
       "      <th>2015</th>\n",
       "      <td>2206.5075</td>\n",
       "    </tr>\n",
       "    <tr>\n",
       "      <th>2016</th>\n",
       "      <td>2368.465</td>\n",
       "    </tr>\n",
       "    <tr>\n",
       "      <th>2017</th>\n",
       "      <td>2683.17</td>\n",
       "    </tr>\n",
       "    <tr>\n",
       "      <th>2018</th>\n",
       "      <td>2987.7325</td>\n",
       "    </tr>\n",
       "    <tr>\n",
       "      <th>2019</th>\n",
       "      <td>3102.7275</td>\n",
       "    </tr>\n",
       "    <tr>\n",
       "      <th>2020</th>\n",
       "      <td>3293.89</td>\n",
       "    </tr>\n",
       "    <tr>\n",
       "      <th>2021</th>\n",
       "      <td>4432.0</td>\n",
       "    </tr>\n",
       "    <tr>\n",
       "      <th>2022</th>\n",
       "      <td>4891.225</td>\n",
       "    </tr>\n",
       "    <tr>\n",
       "      <th>2023</th>\n",
       "      <td>5045.6</td>\n",
       "    </tr>\n",
       "    <tr>\n",
       "      <th>2024</th>\n",
       "      <td>5148.9</td>\n",
       "    </tr>\n",
       "  </tbody>\n",
       "</table>\n",
       "</div>"
      ],
      "text/plain": [
       "     Average (billions)\n",
       "Year                   \n",
       "2000           237.7025\n",
       "2001           334.6475\n",
       "2002           423.5875\n",
       "2003           641.5875\n",
       "2004          1047.4975\n",
       "2005          1282.1025\n",
       "2006            1539.71\n",
       "2007           2116.135\n",
       "2008          2006.3475\n",
       "2009           1256.185\n",
       "2010            1347.74\n",
       "2011          1474.6775\n",
       "2012          1491.5725\n",
       "2013          1708.3575\n",
       "2014          2045.4775\n",
       "2015          2206.5075\n",
       "2016           2368.465\n",
       "2017            2683.17\n",
       "2018          2987.7325\n",
       "2019          3102.7275\n",
       "2020            3293.89\n",
       "2021             4432.0\n",
       "2022           4891.225\n",
       "2023             5045.6\n",
       "2024             5148.9"
      ]
     },
     "execution_count": 6,
     "metadata": {},
     "output_type": "execute_result"
    }
   ],
   "source": [
    "aum_hedge[\"Average (billions)\"]=aum_hedge.mean(axis=1)\n",
    "aum_hedge.drop([\"Q1\",\"Q2\",\"Q3\",\"Q4\"], axis=1, inplace=True)\n",
    "aum_hedge"
   ]
  },
  {
   "cell_type": "code",
   "execution_count": 7,
   "id": "76a5a9b0",
   "metadata": {},
   "outputs": [],
   "source": [
    "mean_bills = [0.193,0.624,7.193,10.782,16.046,30.95,40.574,43.976,63.162,89.859]\n",
    "years= [1980,1985,1990,1991,1992,1993,1994,1995,1996,1997]"
   ]
  },
  {
   "cell_type": "code",
   "execution_count": 8,
   "id": "4f29beec",
   "metadata": {},
   "outputs": [],
   "source": [
    "new_rows =pd.DataFrame(mean_bills, index=years, columns=[\"Average (billions)\"])\n",
    "aum_hedge = pd.concat([aum_hedge, new_rows])"
   ]
  },
  {
   "cell_type": "code",
   "execution_count": 9,
   "id": "f75d8167",
   "metadata": {},
   "outputs": [
    {
     "data": {
      "text/html": [
       "<div>\n",
       "<style scoped>\n",
       "    .dataframe tbody tr th:only-of-type {\n",
       "        vertical-align: middle;\n",
       "    }\n",
       "\n",
       "    .dataframe tbody tr th {\n",
       "        vertical-align: top;\n",
       "    }\n",
       "\n",
       "    .dataframe thead th {\n",
       "        text-align: right;\n",
       "    }\n",
       "</style>\n",
       "<table border=\"1\" class=\"dataframe\">\n",
       "  <thead>\n",
       "    <tr style=\"text-align: right;\">\n",
       "      <th></th>\n",
       "      <th>Average (billions)</th>\n",
       "    </tr>\n",
       "  </thead>\n",
       "  <tbody>\n",
       "    <tr>\n",
       "      <th>2000</th>\n",
       "      <td>237.7025</td>\n",
       "    </tr>\n",
       "    <tr>\n",
       "      <th>2001</th>\n",
       "      <td>334.6475</td>\n",
       "    </tr>\n",
       "    <tr>\n",
       "      <th>2002</th>\n",
       "      <td>423.5875</td>\n",
       "    </tr>\n",
       "    <tr>\n",
       "      <th>2003</th>\n",
       "      <td>641.5875</td>\n",
       "    </tr>\n",
       "    <tr>\n",
       "      <th>2004</th>\n",
       "      <td>1047.4975</td>\n",
       "    </tr>\n",
       "    <tr>\n",
       "      <th>2005</th>\n",
       "      <td>1282.1025</td>\n",
       "    </tr>\n",
       "    <tr>\n",
       "      <th>2006</th>\n",
       "      <td>1539.71</td>\n",
       "    </tr>\n",
       "    <tr>\n",
       "      <th>2007</th>\n",
       "      <td>2116.135</td>\n",
       "    </tr>\n",
       "    <tr>\n",
       "      <th>2008</th>\n",
       "      <td>2006.3475</td>\n",
       "    </tr>\n",
       "    <tr>\n",
       "      <th>2009</th>\n",
       "      <td>1256.185</td>\n",
       "    </tr>\n",
       "    <tr>\n",
       "      <th>2010</th>\n",
       "      <td>1347.74</td>\n",
       "    </tr>\n",
       "    <tr>\n",
       "      <th>2011</th>\n",
       "      <td>1474.6775</td>\n",
       "    </tr>\n",
       "    <tr>\n",
       "      <th>2012</th>\n",
       "      <td>1491.5725</td>\n",
       "    </tr>\n",
       "    <tr>\n",
       "      <th>2013</th>\n",
       "      <td>1708.3575</td>\n",
       "    </tr>\n",
       "    <tr>\n",
       "      <th>2014</th>\n",
       "      <td>2045.4775</td>\n",
       "    </tr>\n",
       "    <tr>\n",
       "      <th>2015</th>\n",
       "      <td>2206.5075</td>\n",
       "    </tr>\n",
       "    <tr>\n",
       "      <th>2016</th>\n",
       "      <td>2368.465</td>\n",
       "    </tr>\n",
       "    <tr>\n",
       "      <th>2017</th>\n",
       "      <td>2683.17</td>\n",
       "    </tr>\n",
       "    <tr>\n",
       "      <th>2018</th>\n",
       "      <td>2987.7325</td>\n",
       "    </tr>\n",
       "    <tr>\n",
       "      <th>2019</th>\n",
       "      <td>3102.7275</td>\n",
       "    </tr>\n",
       "    <tr>\n",
       "      <th>2020</th>\n",
       "      <td>3293.89</td>\n",
       "    </tr>\n",
       "    <tr>\n",
       "      <th>2021</th>\n",
       "      <td>4432.0</td>\n",
       "    </tr>\n",
       "    <tr>\n",
       "      <th>2022</th>\n",
       "      <td>4891.225</td>\n",
       "    </tr>\n",
       "    <tr>\n",
       "      <th>2023</th>\n",
       "      <td>5045.6</td>\n",
       "    </tr>\n",
       "    <tr>\n",
       "      <th>2024</th>\n",
       "      <td>5148.9</td>\n",
       "    </tr>\n",
       "    <tr>\n",
       "      <th>1980</th>\n",
       "      <td>0.193</td>\n",
       "    </tr>\n",
       "    <tr>\n",
       "      <th>1985</th>\n",
       "      <td>0.624</td>\n",
       "    </tr>\n",
       "    <tr>\n",
       "      <th>1990</th>\n",
       "      <td>7.193</td>\n",
       "    </tr>\n",
       "    <tr>\n",
       "      <th>1991</th>\n",
       "      <td>10.782</td>\n",
       "    </tr>\n",
       "    <tr>\n",
       "      <th>1992</th>\n",
       "      <td>16.046</td>\n",
       "    </tr>\n",
       "    <tr>\n",
       "      <th>1993</th>\n",
       "      <td>30.95</td>\n",
       "    </tr>\n",
       "    <tr>\n",
       "      <th>1994</th>\n",
       "      <td>40.574</td>\n",
       "    </tr>\n",
       "    <tr>\n",
       "      <th>1995</th>\n",
       "      <td>43.976</td>\n",
       "    </tr>\n",
       "    <tr>\n",
       "      <th>1996</th>\n",
       "      <td>63.162</td>\n",
       "    </tr>\n",
       "    <tr>\n",
       "      <th>1997</th>\n",
       "      <td>89.859</td>\n",
       "    </tr>\n",
       "  </tbody>\n",
       "</table>\n",
       "</div>"
      ],
      "text/plain": [
       "     Average (billions)\n",
       "2000           237.7025\n",
       "2001           334.6475\n",
       "2002           423.5875\n",
       "2003           641.5875\n",
       "2004          1047.4975\n",
       "2005          1282.1025\n",
       "2006            1539.71\n",
       "2007           2116.135\n",
       "2008          2006.3475\n",
       "2009           1256.185\n",
       "2010            1347.74\n",
       "2011          1474.6775\n",
       "2012          1491.5725\n",
       "2013          1708.3575\n",
       "2014          2045.4775\n",
       "2015          2206.5075\n",
       "2016           2368.465\n",
       "2017            2683.17\n",
       "2018          2987.7325\n",
       "2019          3102.7275\n",
       "2020            3293.89\n",
       "2021             4432.0\n",
       "2022           4891.225\n",
       "2023             5045.6\n",
       "2024             5148.9\n",
       "1980              0.193\n",
       "1985              0.624\n",
       "1990              7.193\n",
       "1991             10.782\n",
       "1992             16.046\n",
       "1993              30.95\n",
       "1994             40.574\n",
       "1995             43.976\n",
       "1996             63.162\n",
       "1997             89.859"
      ]
     },
     "execution_count": 9,
     "metadata": {},
     "output_type": "execute_result"
    }
   ],
   "source": [
    "aum_hedge.index = aum_hedge.index.astype(int)\n",
    "aum_hedge"
   ]
  },
  {
   "cell_type": "code",
   "execution_count": 10,
   "id": "a62f938e",
   "metadata": {},
   "outputs": [],
   "source": [
    "aum_hedge.index = pd.to_datetime(aum_hedge.index, format=\"%Y\")\n",
    "aum_hedge.index=aum_hedge.index.year"
   ]
  },
  {
   "cell_type": "code",
   "execution_count": 11,
   "id": "98e06c3e",
   "metadata": {},
   "outputs": [],
   "source": [
    "aum_hedge.sort_index(ascending=True, inplace=True)"
   ]
  },
  {
   "cell_type": "code",
   "execution_count": 12,
   "id": "1751604d",
   "metadata": {},
   "outputs": [
    {
     "data": {
      "text/html": [
       "<div>\n",
       "<style scoped>\n",
       "    .dataframe tbody tr th:only-of-type {\n",
       "        vertical-align: middle;\n",
       "    }\n",
       "\n",
       "    .dataframe tbody tr th {\n",
       "        vertical-align: top;\n",
       "    }\n",
       "\n",
       "    .dataframe thead th {\n",
       "        text-align: right;\n",
       "    }\n",
       "</style>\n",
       "<table border=\"1\" class=\"dataframe\">\n",
       "  <thead>\n",
       "    <tr style=\"text-align: right;\">\n",
       "      <th></th>\n",
       "      <th>Average (billions)</th>\n",
       "    </tr>\n",
       "  </thead>\n",
       "  <tbody>\n",
       "    <tr>\n",
       "      <th>1980</th>\n",
       "      <td>0.193</td>\n",
       "    </tr>\n",
       "    <tr>\n",
       "      <th>1985</th>\n",
       "      <td>0.624</td>\n",
       "    </tr>\n",
       "    <tr>\n",
       "      <th>1990</th>\n",
       "      <td>7.193</td>\n",
       "    </tr>\n",
       "    <tr>\n",
       "      <th>1991</th>\n",
       "      <td>10.782</td>\n",
       "    </tr>\n",
       "    <tr>\n",
       "      <th>1992</th>\n",
       "      <td>16.046</td>\n",
       "    </tr>\n",
       "    <tr>\n",
       "      <th>1993</th>\n",
       "      <td>30.95</td>\n",
       "    </tr>\n",
       "    <tr>\n",
       "      <th>1994</th>\n",
       "      <td>40.574</td>\n",
       "    </tr>\n",
       "    <tr>\n",
       "      <th>1995</th>\n",
       "      <td>43.976</td>\n",
       "    </tr>\n",
       "    <tr>\n",
       "      <th>1996</th>\n",
       "      <td>63.162</td>\n",
       "    </tr>\n",
       "    <tr>\n",
       "      <th>1997</th>\n",
       "      <td>89.859</td>\n",
       "    </tr>\n",
       "    <tr>\n",
       "      <th>2000</th>\n",
       "      <td>237.7025</td>\n",
       "    </tr>\n",
       "    <tr>\n",
       "      <th>2001</th>\n",
       "      <td>334.6475</td>\n",
       "    </tr>\n",
       "    <tr>\n",
       "      <th>2002</th>\n",
       "      <td>423.5875</td>\n",
       "    </tr>\n",
       "    <tr>\n",
       "      <th>2003</th>\n",
       "      <td>641.5875</td>\n",
       "    </tr>\n",
       "    <tr>\n",
       "      <th>2004</th>\n",
       "      <td>1047.4975</td>\n",
       "    </tr>\n",
       "    <tr>\n",
       "      <th>2005</th>\n",
       "      <td>1282.1025</td>\n",
       "    </tr>\n",
       "    <tr>\n",
       "      <th>2006</th>\n",
       "      <td>1539.71</td>\n",
       "    </tr>\n",
       "    <tr>\n",
       "      <th>2007</th>\n",
       "      <td>2116.135</td>\n",
       "    </tr>\n",
       "    <tr>\n",
       "      <th>2008</th>\n",
       "      <td>2006.3475</td>\n",
       "    </tr>\n",
       "    <tr>\n",
       "      <th>2009</th>\n",
       "      <td>1256.185</td>\n",
       "    </tr>\n",
       "    <tr>\n",
       "      <th>2010</th>\n",
       "      <td>1347.74</td>\n",
       "    </tr>\n",
       "    <tr>\n",
       "      <th>2011</th>\n",
       "      <td>1474.6775</td>\n",
       "    </tr>\n",
       "    <tr>\n",
       "      <th>2012</th>\n",
       "      <td>1491.5725</td>\n",
       "    </tr>\n",
       "    <tr>\n",
       "      <th>2013</th>\n",
       "      <td>1708.3575</td>\n",
       "    </tr>\n",
       "    <tr>\n",
       "      <th>2014</th>\n",
       "      <td>2045.4775</td>\n",
       "    </tr>\n",
       "    <tr>\n",
       "      <th>2015</th>\n",
       "      <td>2206.5075</td>\n",
       "    </tr>\n",
       "    <tr>\n",
       "      <th>2016</th>\n",
       "      <td>2368.465</td>\n",
       "    </tr>\n",
       "    <tr>\n",
       "      <th>2017</th>\n",
       "      <td>2683.17</td>\n",
       "    </tr>\n",
       "    <tr>\n",
       "      <th>2018</th>\n",
       "      <td>2987.7325</td>\n",
       "    </tr>\n",
       "    <tr>\n",
       "      <th>2019</th>\n",
       "      <td>3102.7275</td>\n",
       "    </tr>\n",
       "    <tr>\n",
       "      <th>2020</th>\n",
       "      <td>3293.89</td>\n",
       "    </tr>\n",
       "    <tr>\n",
       "      <th>2021</th>\n",
       "      <td>4432.0</td>\n",
       "    </tr>\n",
       "    <tr>\n",
       "      <th>2022</th>\n",
       "      <td>4891.225</td>\n",
       "    </tr>\n",
       "    <tr>\n",
       "      <th>2023</th>\n",
       "      <td>5045.6</td>\n",
       "    </tr>\n",
       "    <tr>\n",
       "      <th>2024</th>\n",
       "      <td>5148.9</td>\n",
       "    </tr>\n",
       "  </tbody>\n",
       "</table>\n",
       "</div>"
      ],
      "text/plain": [
       "     Average (billions)\n",
       "1980              0.193\n",
       "1985              0.624\n",
       "1990              7.193\n",
       "1991             10.782\n",
       "1992             16.046\n",
       "1993              30.95\n",
       "1994             40.574\n",
       "1995             43.976\n",
       "1996             63.162\n",
       "1997             89.859\n",
       "2000           237.7025\n",
       "2001           334.6475\n",
       "2002           423.5875\n",
       "2003           641.5875\n",
       "2004          1047.4975\n",
       "2005          1282.1025\n",
       "2006            1539.71\n",
       "2007           2116.135\n",
       "2008          2006.3475\n",
       "2009           1256.185\n",
       "2010            1347.74\n",
       "2011          1474.6775\n",
       "2012          1491.5725\n",
       "2013          1708.3575\n",
       "2014          2045.4775\n",
       "2015          2206.5075\n",
       "2016           2368.465\n",
       "2017            2683.17\n",
       "2018          2987.7325\n",
       "2019          3102.7275\n",
       "2020            3293.89\n",
       "2021             4432.0\n",
       "2022           4891.225\n",
       "2023             5045.6\n",
       "2024             5148.9"
      ]
     },
     "execution_count": 12,
     "metadata": {},
     "output_type": "execute_result"
    }
   ],
   "source": [
    "aum_hedge"
   ]
  },
  {
   "cell_type": "markdown",
   "id": "3077db7a",
   "metadata": {},
   "source": [
    "## Q2: Assets's track in Mutual Funds (US) 1945-2024?\n",
    "### About:\n",
    "The following data was sourced from: https://fred.stlouisfed.org/series/BOGZ1LM654090000Q."
   ]
  },
  {
   "cell_type": "code",
   "execution_count": 13,
   "id": "b8ad3584",
   "metadata": {},
   "outputs": [],
   "source": [
    "mutual = pd.read_csv(\"Mutual Funds.csv\")\n",
    "mutual.set_index([\"DATE\"], inplace=True)"
   ]
  },
  {
   "cell_type": "code",
   "execution_count": 14,
   "id": "f3f7f13c",
   "metadata": {},
   "outputs": [],
   "source": [
    "mutual.index = pd.to_datetime(mutual.index)\n",
    "mutual.index=mutual.index.year"
   ]
  },
  {
   "cell_type": "code",
   "execution_count": 15,
   "id": "f5014cb3",
   "metadata": {},
   "outputs": [
    {
     "data": {
      "text/html": [
       "<div>\n",
       "<style scoped>\n",
       "    .dataframe tbody tr th:only-of-type {\n",
       "        vertical-align: middle;\n",
       "    }\n",
       "\n",
       "    .dataframe tbody tr th {\n",
       "        vertical-align: top;\n",
       "    }\n",
       "\n",
       "    .dataframe thead th {\n",
       "        text-align: right;\n",
       "    }\n",
       "</style>\n",
       "<table border=\"1\" class=\"dataframe\">\n",
       "  <thead>\n",
       "    <tr style=\"text-align: right;\">\n",
       "      <th></th>\n",
       "      <th>BOGZ1LM654090000Q</th>\n",
       "    </tr>\n",
       "    <tr>\n",
       "      <th>DATE</th>\n",
       "      <th></th>\n",
       "    </tr>\n",
       "  </thead>\n",
       "  <tbody>\n",
       "    <tr>\n",
       "      <th>1945</th>\n",
       "      <td>1245.0</td>\n",
       "    </tr>\n",
       "    <tr>\n",
       "      <th>1946</th>\n",
       "      <td>.</td>\n",
       "    </tr>\n",
       "    <tr>\n",
       "      <th>1946</th>\n",
       "      <td>.</td>\n",
       "    </tr>\n",
       "    <tr>\n",
       "      <th>1946</th>\n",
       "      <td>.</td>\n",
       "    </tr>\n",
       "    <tr>\n",
       "      <th>1946</th>\n",
       "      <td>1298.0</td>\n",
       "    </tr>\n",
       "    <tr>\n",
       "      <th>...</th>\n",
       "      <td>...</td>\n",
       "    </tr>\n",
       "    <tr>\n",
       "      <th>2023</th>\n",
       "      <td>18166217.0</td>\n",
       "    </tr>\n",
       "    <tr>\n",
       "      <th>2023</th>\n",
       "      <td>18850539.0</td>\n",
       "    </tr>\n",
       "    <tr>\n",
       "      <th>2023</th>\n",
       "      <td>18106592.0</td>\n",
       "    </tr>\n",
       "    <tr>\n",
       "      <th>2023</th>\n",
       "      <td>19599666.0</td>\n",
       "    </tr>\n",
       "    <tr>\n",
       "      <th>2024</th>\n",
       "      <td>20830731.0</td>\n",
       "    </tr>\n",
       "  </tbody>\n",
       "</table>\n",
       "<p>314 rows × 1 columns</p>\n",
       "</div>"
      ],
      "text/plain": [
       "     BOGZ1LM654090000Q\n",
       "DATE                  \n",
       "1945            1245.0\n",
       "1946                 .\n",
       "1946                 .\n",
       "1946                 .\n",
       "1946            1298.0\n",
       "...                ...\n",
       "2023        18166217.0\n",
       "2023        18850539.0\n",
       "2023        18106592.0\n",
       "2023        19599666.0\n",
       "2024        20830731.0\n",
       "\n",
       "[314 rows x 1 columns]"
      ]
     },
     "execution_count": 15,
     "metadata": {},
     "output_type": "execute_result"
    }
   ],
   "source": [
    "mutual"
   ]
  },
  {
   "cell_type": "code",
   "execution_count": 16,
   "id": "967b1971",
   "metadata": {},
   "outputs": [],
   "source": [
    "mutual.dtypes\n",
    "mutual['BOGZ1LM654090000Q'] = pd.to_numeric(mutual['BOGZ1LM654090000Q'], errors='coerce')\n",
    "mutual['BOGZ1LM654090000Q'] = mutual['BOGZ1LM654090000Q'].astype(float)\n",
    "mutual=mutual.groupby(mutual.index).mean()"
   ]
  },
  {
   "cell_type": "code",
   "execution_count": 17,
   "id": "091b7932",
   "metadata": {},
   "outputs": [
    {
     "data": {
      "text/html": [
       "<div>\n",
       "<style scoped>\n",
       "    .dataframe tbody tr th:only-of-type {\n",
       "        vertical-align: middle;\n",
       "    }\n",
       "\n",
       "    .dataframe tbody tr th {\n",
       "        vertical-align: top;\n",
       "    }\n",
       "\n",
       "    .dataframe thead th {\n",
       "        text-align: right;\n",
       "    }\n",
       "</style>\n",
       "<table border=\"1\" class=\"dataframe\">\n",
       "  <thead>\n",
       "    <tr style=\"text-align: right;\">\n",
       "      <th></th>\n",
       "      <th>Assets (millions)</th>\n",
       "    </tr>\n",
       "    <tr>\n",
       "      <th>DATE</th>\n",
       "      <th></th>\n",
       "    </tr>\n",
       "  </thead>\n",
       "  <tbody>\n",
       "    <tr>\n",
       "      <th>1945</th>\n",
       "      <td>1.24500</td>\n",
       "    </tr>\n",
       "    <tr>\n",
       "      <th>1946</th>\n",
       "      <td>1.29800</td>\n",
       "    </tr>\n",
       "    <tr>\n",
       "      <th>1947</th>\n",
       "      <td>1.41300</td>\n",
       "    </tr>\n",
       "    <tr>\n",
       "      <th>1948</th>\n",
       "      <td>1.51600</td>\n",
       "    </tr>\n",
       "    <tr>\n",
       "      <th>1949</th>\n",
       "      <td>3.07100</td>\n",
       "    </tr>\n",
       "    <tr>\n",
       "      <th>...</th>\n",
       "      <td>...</td>\n",
       "    </tr>\n",
       "    <tr>\n",
       "      <th>2020</th>\n",
       "      <td>17157.78875</td>\n",
       "    </tr>\n",
       "    <tr>\n",
       "      <th>2021</th>\n",
       "      <td>21328.68450</td>\n",
       "    </tr>\n",
       "    <tr>\n",
       "      <th>2022</th>\n",
       "      <td>18102.04400</td>\n",
       "    </tr>\n",
       "    <tr>\n",
       "      <th>2023</th>\n",
       "      <td>18680.75350</td>\n",
       "    </tr>\n",
       "    <tr>\n",
       "      <th>2024</th>\n",
       "      <td>20830.73100</td>\n",
       "    </tr>\n",
       "  </tbody>\n",
       "</table>\n",
       "<p>80 rows × 1 columns</p>\n",
       "</div>"
      ],
      "text/plain": [
       "      Assets (millions)\n",
       "DATE                   \n",
       "1945            1.24500\n",
       "1946            1.29800\n",
       "1947            1.41300\n",
       "1948            1.51600\n",
       "1949            3.07100\n",
       "...                 ...\n",
       "2020        17157.78875\n",
       "2021        21328.68450\n",
       "2022        18102.04400\n",
       "2023        18680.75350\n",
       "2024        20830.73100\n",
       "\n",
       "[80 rows x 1 columns]"
      ]
     },
     "execution_count": 17,
     "metadata": {},
     "output_type": "execute_result"
    }
   ],
   "source": [
    "mutual.rename(columns={\"BOGZ1LM654090000Q\":\"Assets (millions)\"}, inplace=True)\n",
    "mutual[\"Assets (millions)\"]=mutual[\"Assets (millions)\"]/1000\n",
    "mutual"
   ]
  },
  {
   "cell_type": "code",
   "execution_count": 18,
   "id": "d84bb3c3",
   "metadata": {},
   "outputs": [],
   "source": [
    "mutual.rename(columns={\"Assets (millions)\":\"Assets (billions)\"}, inplace=True)"
   ]
  },
  {
   "cell_type": "markdown",
   "id": "ae446a86",
   "metadata": {},
   "source": [
    "# Graph"
   ]
  },
  {
   "cell_type": "code",
   "execution_count": 19,
   "id": "308e21fb",
   "metadata": {},
   "outputs": [
    {
     "data": {
      "application/vnd.plotly.v1+json": {
       "config": {
        "plotlyServerURL": "https://plot.ly"
       },
       "data": [
        {
         "line": {
          "color": "#4A817D",
          "width": 3
         },
         "mode": "lines",
         "name": "Hedge Funds",
         "type": "scatter",
         "x": [
          1980,
          1985,
          1990,
          1991,
          1992,
          1993,
          1994,
          1995,
          1996,
          1997,
          2000,
          2001,
          2002,
          2003,
          2004,
          2005,
          2006,
          2007,
          2008,
          2009,
          2010,
          2011,
          2012,
          2013,
          2014,
          2015,
          2016,
          2017,
          2018,
          2019,
          2020,
          2021,
          2022,
          2023,
          2024
         ],
         "y": [
          0.193,
          0.624,
          7.193,
          10.782,
          16.046,
          30.95,
          40.574,
          43.976,
          63.162,
          89.859,
          237.7025,
          334.6475,
          423.58750000000003,
          641.5875,
          1047.4975,
          1282.1025,
          1539.71,
          2116.135,
          2006.3475,
          1256.1850000000002,
          1347.7399999999998,
          1474.6775,
          1491.5725,
          1708.3575,
          2045.4775,
          2206.5075,
          2368.465,
          2683.17,
          2987.7325,
          3102.7275,
          3293.8900000000003,
          4432,
          4891.225,
          5045.6,
          5148.9
         ]
        },
        {
         "line": {
          "color": "#07426E",
          "width": 3
         },
         "mode": "lines",
         "name": "Mutual Funds",
         "type": "scatter",
         "x": [
          1945,
          1946,
          1947,
          1948,
          1949,
          1950,
          1951,
          1952,
          1953,
          1954,
          1955,
          1956,
          1957,
          1958,
          1959,
          1960,
          1961,
          1962,
          1963,
          1964,
          1965,
          1966,
          1967,
          1968,
          1969,
          1970,
          1971,
          1972,
          1973,
          1974,
          1975,
          1976,
          1977,
          1978,
          1979,
          1980,
          1981,
          1982,
          1983,
          1984,
          1985,
          1986,
          1987,
          1988,
          1989,
          1990,
          1991,
          1992,
          1993,
          1994,
          1995,
          1996,
          1997,
          1998,
          1999,
          2000,
          2001,
          2002,
          2003,
          2004,
          2005,
          2006,
          2007,
          2008,
          2009,
          2010,
          2011,
          2012,
          2013,
          2014,
          2015,
          2016,
          2017,
          2018,
          2019,
          2020,
          2021,
          2022,
          2023,
          2024
         ],
         "y": [
          1.245,
          1.298,
          1.413,
          1.516,
          3.071,
          3.344,
          3.482,
          3.76925,
          3.886,
          5.2465,
          7.20175,
          8.68,
          9.127,
          11.2765,
          14.9175,
          16.01875,
          20.83125,
          20.46075,
          23.98825,
          28.2025,
          32.13675,
          34.66375,
          41.8165,
          47.647,
          48.47975,
          44.6385,
          53.327,
          57.33475,
          49.8545,
          38.16375,
          42.73475,
          46.558,
          45.0115,
          46.46225,
          49.89875,
          62.423,
          69.18825,
          74.477,
          117.94275,
          139.40275,
          218.4195,
          395.17225,
          531.881,
          505.5285,
          558.3555,
          594.2415,
          747.4655,
          989.62325,
          1356.842,
          1531.136,
          1865.566,
          2409.76275,
          3128.86625,
          3903.607,
          4677.64,
          5431.23375,
          4604.716,
          4315.51125,
          4728.5905,
          5779.54025,
          6516.24125,
          7529.6155,
          8793.591,
          7402.845,
          6753.0545,
          8353.39525,
          9105.9995,
          10036.65725,
          11545.60275,
          12979.69875,
          13139.09325,
          13367.2535,
          15092.10125,
          15795.24475,
          16800.86475,
          17157.78875,
          21328.6845,
          18102.044,
          18680.7535,
          20830.731
         ]
        }
       ],
       "layout": {
        "height": 700,
        "legend": {
         "font": {
          "color": "#093B49",
          "family": "Courier New",
          "size": 14
         }
        },
        "margin": {
         "t": 100
        },
        "paper_bgcolor": "white",
        "plot_bgcolor": "#F5F9FC",
        "template": {
         "data": {
          "bar": [
           {
            "error_x": {
             "color": "#2a3f5f"
            },
            "error_y": {
             "color": "#2a3f5f"
            },
            "marker": {
             "line": {
              "color": "#E5ECF6",
              "width": 0.5
             },
             "pattern": {
              "fillmode": "overlay",
              "size": 10,
              "solidity": 0.2
             }
            },
            "type": "bar"
           }
          ],
          "barpolar": [
           {
            "marker": {
             "line": {
              "color": "#E5ECF6",
              "width": 0.5
             },
             "pattern": {
              "fillmode": "overlay",
              "size": 10,
              "solidity": 0.2
             }
            },
            "type": "barpolar"
           }
          ],
          "carpet": [
           {
            "aaxis": {
             "endlinecolor": "#2a3f5f",
             "gridcolor": "white",
             "linecolor": "white",
             "minorgridcolor": "white",
             "startlinecolor": "#2a3f5f"
            },
            "baxis": {
             "endlinecolor": "#2a3f5f",
             "gridcolor": "white",
             "linecolor": "white",
             "minorgridcolor": "white",
             "startlinecolor": "#2a3f5f"
            },
            "type": "carpet"
           }
          ],
          "choropleth": [
           {
            "colorbar": {
             "outlinewidth": 0,
             "ticks": ""
            },
            "type": "choropleth"
           }
          ],
          "contour": [
           {
            "colorbar": {
             "outlinewidth": 0,
             "ticks": ""
            },
            "colorscale": [
             [
              0,
              "#0d0887"
             ],
             [
              0.1111111111111111,
              "#46039f"
             ],
             [
              0.2222222222222222,
              "#7201a8"
             ],
             [
              0.3333333333333333,
              "#9c179e"
             ],
             [
              0.4444444444444444,
              "#bd3786"
             ],
             [
              0.5555555555555556,
              "#d8576b"
             ],
             [
              0.6666666666666666,
              "#ed7953"
             ],
             [
              0.7777777777777778,
              "#fb9f3a"
             ],
             [
              0.8888888888888888,
              "#fdca26"
             ],
             [
              1,
              "#f0f921"
             ]
            ],
            "type": "contour"
           }
          ],
          "contourcarpet": [
           {
            "colorbar": {
             "outlinewidth": 0,
             "ticks": ""
            },
            "type": "contourcarpet"
           }
          ],
          "heatmap": [
           {
            "colorbar": {
             "outlinewidth": 0,
             "ticks": ""
            },
            "colorscale": [
             [
              0,
              "#0d0887"
             ],
             [
              0.1111111111111111,
              "#46039f"
             ],
             [
              0.2222222222222222,
              "#7201a8"
             ],
             [
              0.3333333333333333,
              "#9c179e"
             ],
             [
              0.4444444444444444,
              "#bd3786"
             ],
             [
              0.5555555555555556,
              "#d8576b"
             ],
             [
              0.6666666666666666,
              "#ed7953"
             ],
             [
              0.7777777777777778,
              "#fb9f3a"
             ],
             [
              0.8888888888888888,
              "#fdca26"
             ],
             [
              1,
              "#f0f921"
             ]
            ],
            "type": "heatmap"
           }
          ],
          "heatmapgl": [
           {
            "colorbar": {
             "outlinewidth": 0,
             "ticks": ""
            },
            "colorscale": [
             [
              0,
              "#0d0887"
             ],
             [
              0.1111111111111111,
              "#46039f"
             ],
             [
              0.2222222222222222,
              "#7201a8"
             ],
             [
              0.3333333333333333,
              "#9c179e"
             ],
             [
              0.4444444444444444,
              "#bd3786"
             ],
             [
              0.5555555555555556,
              "#d8576b"
             ],
             [
              0.6666666666666666,
              "#ed7953"
             ],
             [
              0.7777777777777778,
              "#fb9f3a"
             ],
             [
              0.8888888888888888,
              "#fdca26"
             ],
             [
              1,
              "#f0f921"
             ]
            ],
            "type": "heatmapgl"
           }
          ],
          "histogram": [
           {
            "marker": {
             "pattern": {
              "fillmode": "overlay",
              "size": 10,
              "solidity": 0.2
             }
            },
            "type": "histogram"
           }
          ],
          "histogram2d": [
           {
            "colorbar": {
             "outlinewidth": 0,
             "ticks": ""
            },
            "colorscale": [
             [
              0,
              "#0d0887"
             ],
             [
              0.1111111111111111,
              "#46039f"
             ],
             [
              0.2222222222222222,
              "#7201a8"
             ],
             [
              0.3333333333333333,
              "#9c179e"
             ],
             [
              0.4444444444444444,
              "#bd3786"
             ],
             [
              0.5555555555555556,
              "#d8576b"
             ],
             [
              0.6666666666666666,
              "#ed7953"
             ],
             [
              0.7777777777777778,
              "#fb9f3a"
             ],
             [
              0.8888888888888888,
              "#fdca26"
             ],
             [
              1,
              "#f0f921"
             ]
            ],
            "type": "histogram2d"
           }
          ],
          "histogram2dcontour": [
           {
            "colorbar": {
             "outlinewidth": 0,
             "ticks": ""
            },
            "colorscale": [
             [
              0,
              "#0d0887"
             ],
             [
              0.1111111111111111,
              "#46039f"
             ],
             [
              0.2222222222222222,
              "#7201a8"
             ],
             [
              0.3333333333333333,
              "#9c179e"
             ],
             [
              0.4444444444444444,
              "#bd3786"
             ],
             [
              0.5555555555555556,
              "#d8576b"
             ],
             [
              0.6666666666666666,
              "#ed7953"
             ],
             [
              0.7777777777777778,
              "#fb9f3a"
             ],
             [
              0.8888888888888888,
              "#fdca26"
             ],
             [
              1,
              "#f0f921"
             ]
            ],
            "type": "histogram2dcontour"
           }
          ],
          "mesh3d": [
           {
            "colorbar": {
             "outlinewidth": 0,
             "ticks": ""
            },
            "type": "mesh3d"
           }
          ],
          "parcoords": [
           {
            "line": {
             "colorbar": {
              "outlinewidth": 0,
              "ticks": ""
             }
            },
            "type": "parcoords"
           }
          ],
          "pie": [
           {
            "automargin": true,
            "type": "pie"
           }
          ],
          "scatter": [
           {
            "fillpattern": {
             "fillmode": "overlay",
             "size": 10,
             "solidity": 0.2
            },
            "type": "scatter"
           }
          ],
          "scatter3d": [
           {
            "line": {
             "colorbar": {
              "outlinewidth": 0,
              "ticks": ""
             }
            },
            "marker": {
             "colorbar": {
              "outlinewidth": 0,
              "ticks": ""
             }
            },
            "type": "scatter3d"
           }
          ],
          "scattercarpet": [
           {
            "marker": {
             "colorbar": {
              "outlinewidth": 0,
              "ticks": ""
             }
            },
            "type": "scattercarpet"
           }
          ],
          "scattergeo": [
           {
            "marker": {
             "colorbar": {
              "outlinewidth": 0,
              "ticks": ""
             }
            },
            "type": "scattergeo"
           }
          ],
          "scattergl": [
           {
            "marker": {
             "colorbar": {
              "outlinewidth": 0,
              "ticks": ""
             }
            },
            "type": "scattergl"
           }
          ],
          "scattermapbox": [
           {
            "marker": {
             "colorbar": {
              "outlinewidth": 0,
              "ticks": ""
             }
            },
            "type": "scattermapbox"
           }
          ],
          "scatterpolar": [
           {
            "marker": {
             "colorbar": {
              "outlinewidth": 0,
              "ticks": ""
             }
            },
            "type": "scatterpolar"
           }
          ],
          "scatterpolargl": [
           {
            "marker": {
             "colorbar": {
              "outlinewidth": 0,
              "ticks": ""
             }
            },
            "type": "scatterpolargl"
           }
          ],
          "scatterternary": [
           {
            "marker": {
             "colorbar": {
              "outlinewidth": 0,
              "ticks": ""
             }
            },
            "type": "scatterternary"
           }
          ],
          "surface": [
           {
            "colorbar": {
             "outlinewidth": 0,
             "ticks": ""
            },
            "colorscale": [
             [
              0,
              "#0d0887"
             ],
             [
              0.1111111111111111,
              "#46039f"
             ],
             [
              0.2222222222222222,
              "#7201a8"
             ],
             [
              0.3333333333333333,
              "#9c179e"
             ],
             [
              0.4444444444444444,
              "#bd3786"
             ],
             [
              0.5555555555555556,
              "#d8576b"
             ],
             [
              0.6666666666666666,
              "#ed7953"
             ],
             [
              0.7777777777777778,
              "#fb9f3a"
             ],
             [
              0.8888888888888888,
              "#fdca26"
             ],
             [
              1,
              "#f0f921"
             ]
            ],
            "type": "surface"
           }
          ],
          "table": [
           {
            "cells": {
             "fill": {
              "color": "#EBF0F8"
             },
             "line": {
              "color": "white"
             }
            },
            "header": {
             "fill": {
              "color": "#C8D4E3"
             },
             "line": {
              "color": "white"
             }
            },
            "type": "table"
           }
          ]
         },
         "layout": {
          "annotationdefaults": {
           "arrowcolor": "#2a3f5f",
           "arrowhead": 0,
           "arrowwidth": 1
          },
          "autotypenumbers": "strict",
          "coloraxis": {
           "colorbar": {
            "outlinewidth": 0,
            "ticks": ""
           }
          },
          "colorscale": {
           "diverging": [
            [
             0,
             "#8e0152"
            ],
            [
             0.1,
             "#c51b7d"
            ],
            [
             0.2,
             "#de77ae"
            ],
            [
             0.3,
             "#f1b6da"
            ],
            [
             0.4,
             "#fde0ef"
            ],
            [
             0.5,
             "#f7f7f7"
            ],
            [
             0.6,
             "#e6f5d0"
            ],
            [
             0.7,
             "#b8e186"
            ],
            [
             0.8,
             "#7fbc41"
            ],
            [
             0.9,
             "#4d9221"
            ],
            [
             1,
             "#276419"
            ]
           ],
           "sequential": [
            [
             0,
             "#0d0887"
            ],
            [
             0.1111111111111111,
             "#46039f"
            ],
            [
             0.2222222222222222,
             "#7201a8"
            ],
            [
             0.3333333333333333,
             "#9c179e"
            ],
            [
             0.4444444444444444,
             "#bd3786"
            ],
            [
             0.5555555555555556,
             "#d8576b"
            ],
            [
             0.6666666666666666,
             "#ed7953"
            ],
            [
             0.7777777777777778,
             "#fb9f3a"
            ],
            [
             0.8888888888888888,
             "#fdca26"
            ],
            [
             1,
             "#f0f921"
            ]
           ],
           "sequentialminus": [
            [
             0,
             "#0d0887"
            ],
            [
             0.1111111111111111,
             "#46039f"
            ],
            [
             0.2222222222222222,
             "#7201a8"
            ],
            [
             0.3333333333333333,
             "#9c179e"
            ],
            [
             0.4444444444444444,
             "#bd3786"
            ],
            [
             0.5555555555555556,
             "#d8576b"
            ],
            [
             0.6666666666666666,
             "#ed7953"
            ],
            [
             0.7777777777777778,
             "#fb9f3a"
            ],
            [
             0.8888888888888888,
             "#fdca26"
            ],
            [
             1,
             "#f0f921"
            ]
           ]
          },
          "colorway": [
           "#636efa",
           "#EF553B",
           "#00cc96",
           "#ab63fa",
           "#FFA15A",
           "#19d3f3",
           "#FF6692",
           "#B6E880",
           "#FF97FF",
           "#FECB52"
          ],
          "font": {
           "color": "#2a3f5f"
          },
          "geo": {
           "bgcolor": "white",
           "lakecolor": "white",
           "landcolor": "#E5ECF6",
           "showlakes": true,
           "showland": true,
           "subunitcolor": "white"
          },
          "hoverlabel": {
           "align": "left"
          },
          "hovermode": "closest",
          "mapbox": {
           "style": "light"
          },
          "paper_bgcolor": "white",
          "plot_bgcolor": "#E5ECF6",
          "polar": {
           "angularaxis": {
            "gridcolor": "white",
            "linecolor": "white",
            "ticks": ""
           },
           "bgcolor": "#E5ECF6",
           "radialaxis": {
            "gridcolor": "white",
            "linecolor": "white",
            "ticks": ""
           }
          },
          "scene": {
           "xaxis": {
            "backgroundcolor": "#E5ECF6",
            "gridcolor": "white",
            "gridwidth": 2,
            "linecolor": "white",
            "showbackground": true,
            "ticks": "",
            "zerolinecolor": "white"
           },
           "yaxis": {
            "backgroundcolor": "#E5ECF6",
            "gridcolor": "white",
            "gridwidth": 2,
            "linecolor": "white",
            "showbackground": true,
            "ticks": "",
            "zerolinecolor": "white"
           },
           "zaxis": {
            "backgroundcolor": "#E5ECF6",
            "gridcolor": "white",
            "gridwidth": 2,
            "linecolor": "white",
            "showbackground": true,
            "ticks": "",
            "zerolinecolor": "white"
           }
          },
          "shapedefaults": {
           "line": {
            "color": "#2a3f5f"
           }
          },
          "ternary": {
           "aaxis": {
            "gridcolor": "white",
            "linecolor": "white",
            "ticks": ""
           },
           "baxis": {
            "gridcolor": "white",
            "linecolor": "white",
            "ticks": ""
           },
           "bgcolor": "#E5ECF6",
           "caxis": {
            "gridcolor": "white",
            "linecolor": "white",
            "ticks": ""
           }
          },
          "title": {
           "x": 0.05
          },
          "xaxis": {
           "automargin": true,
           "gridcolor": "white",
           "linecolor": "white",
           "ticks": "",
           "title": {
            "standoff": 15
           },
           "zerolinecolor": "white",
           "zerolinewidth": 2
          },
          "yaxis": {
           "automargin": true,
           "gridcolor": "white",
           "linecolor": "white",
           "ticks": "",
           "title": {
            "standoff": 15
           },
           "zerolinecolor": "white",
           "zerolinewidth": 2
          }
         }
        },
        "title": {
         "font": {
          "color": "#093B49",
          "family": "Courier New",
          "size": 25
         },
         "text": "<b>Hedge Funds vs. Mutual Funds Assets Growth<br></b>",
         "x": 0.45
        },
        "width": 1000,
        "xaxis": {
         "dtick": 4,
         "range": [
          1945,
          2024
         ],
         "title": {
          "font": {
           "color": "#093B49",
           "family": "Courier New",
           "size": 20
          },
          "text": "Year"
         }
        },
        "yaxis": {
         "dtick": 1000,
         "range": [
          0.9,
          21000
         ],
         "title": {
          "font": {
           "color": "#093B49",
           "family": "Courier New",
           "size": 20
          },
          "text": "AUM (billions)"
         }
        }
       }
      },
      "text/html": [
       "<div>                            <div id=\"a5690563-afdd-424d-bfd5-c2bc734176e7\" class=\"plotly-graph-div\" style=\"height:700px; width:1000px;\"></div>            <script type=\"text/javascript\">                require([\"plotly\"], function(Plotly) {                    window.PLOTLYENV=window.PLOTLYENV || {};                                    if (document.getElementById(\"a5690563-afdd-424d-bfd5-c2bc734176e7\")) {                    Plotly.newPlot(                        \"a5690563-afdd-424d-bfd5-c2bc734176e7\",                        [{\"line\":{\"color\":\"#4A817D\",\"width\":3},\"mode\":\"lines\",\"name\":\"Hedge Funds\",\"x\":[1980,1985,1990,1991,1992,1993,1994,1995,1996,1997,2000,2001,2002,2003,2004,2005,2006,2007,2008,2009,2010,2011,2012,2013,2014,2015,2016,2017,2018,2019,2020,2021,2022,2023,2024],\"y\":[0.193,0.624,7.193,10.782,16.046,30.95,40.574,43.976,63.162,89.859,237.7025,334.6475,423.58750000000003,641.5875,1047.4975,1282.1025,1539.71,2116.135,2006.3475,1256.1850000000002,1347.7399999999998,1474.6775,1491.5725,1708.3575,2045.4775,2206.5075,2368.465,2683.17,2987.7325,3102.7275,3293.8900000000003,4432.0,4891.225,5045.6,5148.9],\"type\":\"scatter\"},{\"line\":{\"color\":\"#07426E\",\"width\":3},\"mode\":\"lines\",\"name\":\"Mutual Funds\",\"x\":[1945,1946,1947,1948,1949,1950,1951,1952,1953,1954,1955,1956,1957,1958,1959,1960,1961,1962,1963,1964,1965,1966,1967,1968,1969,1970,1971,1972,1973,1974,1975,1976,1977,1978,1979,1980,1981,1982,1983,1984,1985,1986,1987,1988,1989,1990,1991,1992,1993,1994,1995,1996,1997,1998,1999,2000,2001,2002,2003,2004,2005,2006,2007,2008,2009,2010,2011,2012,2013,2014,2015,2016,2017,2018,2019,2020,2021,2022,2023,2024],\"y\":[1.245,1.298,1.413,1.516,3.071,3.344,3.482,3.76925,3.886,5.2465,7.20175,8.68,9.127,11.2765,14.9175,16.01875,20.83125,20.46075,23.98825,28.2025,32.13675,34.66375,41.8165,47.647,48.47975,44.6385,53.327,57.33475,49.8545,38.16375,42.73475,46.558,45.0115,46.46225,49.89875,62.423,69.18825,74.477,117.94275,139.40275,218.4195,395.17225,531.881,505.5285,558.3555,594.2415,747.4655,989.62325,1356.842,1531.136,1865.566,2409.76275,3128.86625,3903.607,4677.64,5431.23375,4604.716,4315.51125,4728.5905,5779.54025,6516.24125,7529.6155,8793.591,7402.845,6753.0545,8353.39525,9105.9995,10036.65725,11545.60275,12979.69875,13139.09325,13367.2535,15092.10125,15795.24475,16800.86475,17157.78875,21328.6845,18102.044,18680.7535,20830.731],\"type\":\"scatter\"}],                        {\"template\":{\"data\":{\"histogram2dcontour\":[{\"type\":\"histogram2dcontour\",\"colorbar\":{\"outlinewidth\":0,\"ticks\":\"\"},\"colorscale\":[[0.0,\"#0d0887\"],[0.1111111111111111,\"#46039f\"],[0.2222222222222222,\"#7201a8\"],[0.3333333333333333,\"#9c179e\"],[0.4444444444444444,\"#bd3786\"],[0.5555555555555556,\"#d8576b\"],[0.6666666666666666,\"#ed7953\"],[0.7777777777777778,\"#fb9f3a\"],[0.8888888888888888,\"#fdca26\"],[1.0,\"#f0f921\"]]}],\"choropleth\":[{\"type\":\"choropleth\",\"colorbar\":{\"outlinewidth\":0,\"ticks\":\"\"}}],\"histogram2d\":[{\"type\":\"histogram2d\",\"colorbar\":{\"outlinewidth\":0,\"ticks\":\"\"},\"colorscale\":[[0.0,\"#0d0887\"],[0.1111111111111111,\"#46039f\"],[0.2222222222222222,\"#7201a8\"],[0.3333333333333333,\"#9c179e\"],[0.4444444444444444,\"#bd3786\"],[0.5555555555555556,\"#d8576b\"],[0.6666666666666666,\"#ed7953\"],[0.7777777777777778,\"#fb9f3a\"],[0.8888888888888888,\"#fdca26\"],[1.0,\"#f0f921\"]]}],\"heatmap\":[{\"type\":\"heatmap\",\"colorbar\":{\"outlinewidth\":0,\"ticks\":\"\"},\"colorscale\":[[0.0,\"#0d0887\"],[0.1111111111111111,\"#46039f\"],[0.2222222222222222,\"#7201a8\"],[0.3333333333333333,\"#9c179e\"],[0.4444444444444444,\"#bd3786\"],[0.5555555555555556,\"#d8576b\"],[0.6666666666666666,\"#ed7953\"],[0.7777777777777778,\"#fb9f3a\"],[0.8888888888888888,\"#fdca26\"],[1.0,\"#f0f921\"]]}],\"heatmapgl\":[{\"type\":\"heatmapgl\",\"colorbar\":{\"outlinewidth\":0,\"ticks\":\"\"},\"colorscale\":[[0.0,\"#0d0887\"],[0.1111111111111111,\"#46039f\"],[0.2222222222222222,\"#7201a8\"],[0.3333333333333333,\"#9c179e\"],[0.4444444444444444,\"#bd3786\"],[0.5555555555555556,\"#d8576b\"],[0.6666666666666666,\"#ed7953\"],[0.7777777777777778,\"#fb9f3a\"],[0.8888888888888888,\"#fdca26\"],[1.0,\"#f0f921\"]]}],\"contourcarpet\":[{\"type\":\"contourcarpet\",\"colorbar\":{\"outlinewidth\":0,\"ticks\":\"\"}}],\"contour\":[{\"type\":\"contour\",\"colorbar\":{\"outlinewidth\":0,\"ticks\":\"\"},\"colorscale\":[[0.0,\"#0d0887\"],[0.1111111111111111,\"#46039f\"],[0.2222222222222222,\"#7201a8\"],[0.3333333333333333,\"#9c179e\"],[0.4444444444444444,\"#bd3786\"],[0.5555555555555556,\"#d8576b\"],[0.6666666666666666,\"#ed7953\"],[0.7777777777777778,\"#fb9f3a\"],[0.8888888888888888,\"#fdca26\"],[1.0,\"#f0f921\"]]}],\"surface\":[{\"type\":\"surface\",\"colorbar\":{\"outlinewidth\":0,\"ticks\":\"\"},\"colorscale\":[[0.0,\"#0d0887\"],[0.1111111111111111,\"#46039f\"],[0.2222222222222222,\"#7201a8\"],[0.3333333333333333,\"#9c179e\"],[0.4444444444444444,\"#bd3786\"],[0.5555555555555556,\"#d8576b\"],[0.6666666666666666,\"#ed7953\"],[0.7777777777777778,\"#fb9f3a\"],[0.8888888888888888,\"#fdca26\"],[1.0,\"#f0f921\"]]}],\"mesh3d\":[{\"type\":\"mesh3d\",\"colorbar\":{\"outlinewidth\":0,\"ticks\":\"\"}}],\"scatter\":[{\"fillpattern\":{\"fillmode\":\"overlay\",\"size\":10,\"solidity\":0.2},\"type\":\"scatter\"}],\"parcoords\":[{\"type\":\"parcoords\",\"line\":{\"colorbar\":{\"outlinewidth\":0,\"ticks\":\"\"}}}],\"scatterpolargl\":[{\"type\":\"scatterpolargl\",\"marker\":{\"colorbar\":{\"outlinewidth\":0,\"ticks\":\"\"}}}],\"bar\":[{\"error_x\":{\"color\":\"#2a3f5f\"},\"error_y\":{\"color\":\"#2a3f5f\"},\"marker\":{\"line\":{\"color\":\"#E5ECF6\",\"width\":0.5},\"pattern\":{\"fillmode\":\"overlay\",\"size\":10,\"solidity\":0.2}},\"type\":\"bar\"}],\"scattergeo\":[{\"type\":\"scattergeo\",\"marker\":{\"colorbar\":{\"outlinewidth\":0,\"ticks\":\"\"}}}],\"scatterpolar\":[{\"type\":\"scatterpolar\",\"marker\":{\"colorbar\":{\"outlinewidth\":0,\"ticks\":\"\"}}}],\"histogram\":[{\"marker\":{\"pattern\":{\"fillmode\":\"overlay\",\"size\":10,\"solidity\":0.2}},\"type\":\"histogram\"}],\"scattergl\":[{\"type\":\"scattergl\",\"marker\":{\"colorbar\":{\"outlinewidth\":0,\"ticks\":\"\"}}}],\"scatter3d\":[{\"type\":\"scatter3d\",\"line\":{\"colorbar\":{\"outlinewidth\":0,\"ticks\":\"\"}},\"marker\":{\"colorbar\":{\"outlinewidth\":0,\"ticks\":\"\"}}}],\"scattermapbox\":[{\"type\":\"scattermapbox\",\"marker\":{\"colorbar\":{\"outlinewidth\":0,\"ticks\":\"\"}}}],\"scatterternary\":[{\"type\":\"scatterternary\",\"marker\":{\"colorbar\":{\"outlinewidth\":0,\"ticks\":\"\"}}}],\"scattercarpet\":[{\"type\":\"scattercarpet\",\"marker\":{\"colorbar\":{\"outlinewidth\":0,\"ticks\":\"\"}}}],\"carpet\":[{\"aaxis\":{\"endlinecolor\":\"#2a3f5f\",\"gridcolor\":\"white\",\"linecolor\":\"white\",\"minorgridcolor\":\"white\",\"startlinecolor\":\"#2a3f5f\"},\"baxis\":{\"endlinecolor\":\"#2a3f5f\",\"gridcolor\":\"white\",\"linecolor\":\"white\",\"minorgridcolor\":\"white\",\"startlinecolor\":\"#2a3f5f\"},\"type\":\"carpet\"}],\"table\":[{\"cells\":{\"fill\":{\"color\":\"#EBF0F8\"},\"line\":{\"color\":\"white\"}},\"header\":{\"fill\":{\"color\":\"#C8D4E3\"},\"line\":{\"color\":\"white\"}},\"type\":\"table\"}],\"barpolar\":[{\"marker\":{\"line\":{\"color\":\"#E5ECF6\",\"width\":0.5},\"pattern\":{\"fillmode\":\"overlay\",\"size\":10,\"solidity\":0.2}},\"type\":\"barpolar\"}],\"pie\":[{\"automargin\":true,\"type\":\"pie\"}]},\"layout\":{\"autotypenumbers\":\"strict\",\"colorway\":[\"#636efa\",\"#EF553B\",\"#00cc96\",\"#ab63fa\",\"#FFA15A\",\"#19d3f3\",\"#FF6692\",\"#B6E880\",\"#FF97FF\",\"#FECB52\"],\"font\":{\"color\":\"#2a3f5f\"},\"hovermode\":\"closest\",\"hoverlabel\":{\"align\":\"left\"},\"paper_bgcolor\":\"white\",\"plot_bgcolor\":\"#E5ECF6\",\"polar\":{\"bgcolor\":\"#E5ECF6\",\"angularaxis\":{\"gridcolor\":\"white\",\"linecolor\":\"white\",\"ticks\":\"\"},\"radialaxis\":{\"gridcolor\":\"white\",\"linecolor\":\"white\",\"ticks\":\"\"}},\"ternary\":{\"bgcolor\":\"#E5ECF6\",\"aaxis\":{\"gridcolor\":\"white\",\"linecolor\":\"white\",\"ticks\":\"\"},\"baxis\":{\"gridcolor\":\"white\",\"linecolor\":\"white\",\"ticks\":\"\"},\"caxis\":{\"gridcolor\":\"white\",\"linecolor\":\"white\",\"ticks\":\"\"}},\"coloraxis\":{\"colorbar\":{\"outlinewidth\":0,\"ticks\":\"\"}},\"colorscale\":{\"sequential\":[[0.0,\"#0d0887\"],[0.1111111111111111,\"#46039f\"],[0.2222222222222222,\"#7201a8\"],[0.3333333333333333,\"#9c179e\"],[0.4444444444444444,\"#bd3786\"],[0.5555555555555556,\"#d8576b\"],[0.6666666666666666,\"#ed7953\"],[0.7777777777777778,\"#fb9f3a\"],[0.8888888888888888,\"#fdca26\"],[1.0,\"#f0f921\"]],\"sequentialminus\":[[0.0,\"#0d0887\"],[0.1111111111111111,\"#46039f\"],[0.2222222222222222,\"#7201a8\"],[0.3333333333333333,\"#9c179e\"],[0.4444444444444444,\"#bd3786\"],[0.5555555555555556,\"#d8576b\"],[0.6666666666666666,\"#ed7953\"],[0.7777777777777778,\"#fb9f3a\"],[0.8888888888888888,\"#fdca26\"],[1.0,\"#f0f921\"]],\"diverging\":[[0,\"#8e0152\"],[0.1,\"#c51b7d\"],[0.2,\"#de77ae\"],[0.3,\"#f1b6da\"],[0.4,\"#fde0ef\"],[0.5,\"#f7f7f7\"],[0.6,\"#e6f5d0\"],[0.7,\"#b8e186\"],[0.8,\"#7fbc41\"],[0.9,\"#4d9221\"],[1,\"#276419\"]]},\"xaxis\":{\"gridcolor\":\"white\",\"linecolor\":\"white\",\"ticks\":\"\",\"title\":{\"standoff\":15},\"zerolinecolor\":\"white\",\"automargin\":true,\"zerolinewidth\":2},\"yaxis\":{\"gridcolor\":\"white\",\"linecolor\":\"white\",\"ticks\":\"\",\"title\":{\"standoff\":15},\"zerolinecolor\":\"white\",\"automargin\":true,\"zerolinewidth\":2},\"scene\":{\"xaxis\":{\"backgroundcolor\":\"#E5ECF6\",\"gridcolor\":\"white\",\"linecolor\":\"white\",\"showbackground\":true,\"ticks\":\"\",\"zerolinecolor\":\"white\",\"gridwidth\":2},\"yaxis\":{\"backgroundcolor\":\"#E5ECF6\",\"gridcolor\":\"white\",\"linecolor\":\"white\",\"showbackground\":true,\"ticks\":\"\",\"zerolinecolor\":\"white\",\"gridwidth\":2},\"zaxis\":{\"backgroundcolor\":\"#E5ECF6\",\"gridcolor\":\"white\",\"linecolor\":\"white\",\"showbackground\":true,\"ticks\":\"\",\"zerolinecolor\":\"white\",\"gridwidth\":2}},\"shapedefaults\":{\"line\":{\"color\":\"#2a3f5f\"}},\"annotationdefaults\":{\"arrowcolor\":\"#2a3f5f\",\"arrowhead\":0,\"arrowwidth\":1},\"geo\":{\"bgcolor\":\"white\",\"landcolor\":\"#E5ECF6\",\"subunitcolor\":\"white\",\"showland\":true,\"showlakes\":true,\"lakecolor\":\"white\"},\"title\":{\"x\":0.05},\"mapbox\":{\"style\":\"light\"}}},\"title\":{\"font\":{\"size\":25,\"color\":\"#093B49\",\"family\":\"Courier New\"},\"text\":\"\\u003cb\\u003eHedge Funds vs. Mutual Funds Assets Growth\\u003cbr\\u003e\\u003c\\u002fb\\u003e\",\"x\":0.45},\"margin\":{\"t\":100},\"legend\":{\"font\":{\"family\":\"Courier New\",\"size\":14,\"color\":\"#093B49\"}},\"width\":1000,\"height\":700,\"plot_bgcolor\":\"#F5F9FC\",\"paper_bgcolor\":\"white\",\"yaxis\":{\"title\":{\"font\":{\"family\":\"Courier New\",\"size\":20,\"color\":\"#093B49\"},\"text\":\"AUM (billions)\"},\"range\":[0.9,21000],\"dtick\":1000},\"xaxis\":{\"title\":{\"font\":{\"family\":\"Courier New\",\"size\":20,\"color\":\"#093B49\"},\"text\":\"Year\"},\"range\":[1945,2024],\"dtick\":4}},                        {\"responsive\": true}                    ).then(function(){\n",
       "                            \n",
       "var gd = document.getElementById('a5690563-afdd-424d-bfd5-c2bc734176e7');\n",
       "var x = new MutationObserver(function (mutations, observer) {{\n",
       "        var display = window.getComputedStyle(gd).display;\n",
       "        if (!display || display === 'none') {{\n",
       "            console.log([gd, 'removed!']);\n",
       "            Plotly.purge(gd);\n",
       "            observer.disconnect();\n",
       "        }}\n",
       "}});\n",
       "\n",
       "// Listen for the removal of the full notebook cells\n",
       "var notebookContainer = gd.closest('#notebook-container');\n",
       "if (notebookContainer) {{\n",
       "    x.observe(notebookContainer, {childList: true});\n",
       "}}\n",
       "\n",
       "// Listen for the clearing of the current output cell\n",
       "var outputEl = gd.closest('.output');\n",
       "if (outputEl) {{\n",
       "    x.observe(outputEl, {childList: true});\n",
       "}}\n",
       "\n",
       "                        })                };                });            </script>        </div>"
      ]
     },
     "metadata": {},
     "output_type": "display_data"
    }
   ],
   "source": [
    "x0 = aum_hedge.index\n",
    "x1 = mutual.index\n",
    "y0 = aum_hedge[\"Average (billions)\"]\n",
    "y1 = mutual[\"Assets (billions)\"]\n",
    "\n",
    "fig = go.Figure()\n",
    "fig.add_trace(go.Scatter(x=x0, y=y0, mode='lines', name='Hedge Funds',  line=dict(color='#4A817D',width=3)))\n",
    "fig.add_trace(go.Scatter(x=x1, y=y1, mode='lines', name='Mutual Funds', line=dict(color='#07426E',width=3)))\n",
    "\n",
    "\n",
    "fig.update_layout(\n",
    "    \n",
    "    title = dict(\n",
    "        text=\"<b>Hedge Funds vs. Mutual Funds Assets Growth<br></b>\",  # Add title\n",
    "        x=0.45,# Center the title\n",
    "        font=dict(size=25, color='#093B49',family=\"Courier New\")  # Set title font color to black\n",
    "    ),\n",
    "\n",
    "    margin=dict(t=100),\n",
    "    \n",
    "    width=1000,   \n",
    "    height=700, \n",
    "    plot_bgcolor='#F5F9FC',  # Background color of the plot area\n",
    "    paper_bgcolor='white',  # Background color of the whole figure\n",
    "    \n",
    "     legend=dict(\n",
    "        font=dict(\n",
    "            family=\"Courier New\",\n",
    "            size=14,\n",
    "            color=\"#093B49\"\n",
    "        ),\n",
    "     )\n",
    ")\n",
    "\n",
    "fig.update_yaxes(\n",
    "    title_text='AUM (billions)',   \n",
    "    range=[0.9, 21000],         \n",
    "    dtick=1000,  \n",
    "    \n",
    "    title_font=dict(\n",
    "        family=\"Courier New\",\n",
    "        size=20,\n",
    "        color=\"#093B49\",\n",
    "    )\n",
    ")\n",
    "\n",
    "fig.update_xaxes(\n",
    "    title_text='Year',   \n",
    "    range=[1945, 2024],      \n",
    "    dtick=4,   \n",
    "    \n",
    "    title_font=dict(\n",
    "        family=\"Courier New\",\n",
    "        size=20,\n",
    "        color=\"#093B49\",\n",
    "    )\n",
    ")\n",
    "\n",
    "\n",
    "fig.show()"
   ]
  },
  {
   "cell_type": "markdown",
   "id": "281500e3",
   "metadata": {},
   "source": [
    "# How much assets increase in both institution?"
   ]
  },
  {
   "cell_type": "markdown",
   "id": "230b7d08",
   "metadata": {},
   "source": [
    "## Since 1980 - 2007"
   ]
  },
  {
   "cell_type": "code",
   "execution_count": 20,
   "id": "ea1bc29b",
   "metadata": {},
   "outputs": [
    {
     "name": "stdout",
     "output_type": "stream",
     "text": [
      "Since 1980 to 2007, assets under managment in Hedge Funds overall increased in 10,963 times.\n"
     ]
    }
   ],
   "source": [
    "range1_hedge = aum_hedge.loc[2007] - aum_hedge.loc[1980]\n",
    "inxtimes1_hedge = range1_hedge/aum_hedge.loc[1980]\n",
    "inxtimes1_hedge = inxtimes1_hedge.astype(float)\n",
    "inxtimes1_hedge = round(inxtimes1_hedge)\n",
    "\n",
    "print(f\"Since 1980 to 2007, assets under managment in Hedge Funds overall increased in 10,963 times.\") "
   ]
  },
  {
   "cell_type": "code",
   "execution_count": 21,
   "id": "5f23e8d3",
   "metadata": {},
   "outputs": [
    {
     "name": "stdout",
     "output_type": "stream",
     "text": [
      "Since 1980 to 2007, assets under managment in Mutual Funds overall increased in 140 times.\n"
     ]
    }
   ],
   "source": [
    "range1_mutual = mutual.loc[2007] - mutual.loc[1980]\n",
    "inxtimes1_mutual= range1_mutual/mutual.loc[1980]\n",
    "inxtimes1_mutual = inxtimes1_mutual.astype(float)\n",
    "inxtimes1_mutual = round(inxtimes1_mutual)\n",
    "\n",
    "print(f\"Since 1980 to 2007, assets under managment in Mutual Funds overall increased in 140 times.\") "
   ]
  },
  {
   "cell_type": "markdown",
   "id": "e22f2cd8",
   "metadata": {},
   "source": [
    "## Since 2007 - 2014"
   ]
  },
  {
   "cell_type": "code",
   "execution_count": 22,
   "id": "df12a191",
   "metadata": {},
   "outputs": [
    {
     "name": "stdout",
     "output_type": "stream",
     "text": [
      "Since 1980 to 2014, assets under managment in Hedge Funds overall droped in 0.033 times.\n"
     ]
    }
   ],
   "source": [
    "range2_hedge = aum_hedge.loc[2014] - aum_hedge.loc[2007]\n",
    "inxtimes2_hedge = range2_hedge/aum_hedge.loc[2007]\n",
    "inxtimes2_hedge = inxtimes2_hedge.astype(float)\n",
    "inxtimes2_hedge = round(inxtimes2_hedge, 3)\n",
    "\n",
    "print(f\"Since 1980 to 2014, assets under managment in Hedge Funds overall droped in 0.033 times.\") "
   ]
  },
  {
   "cell_type": "code",
   "execution_count": 23,
   "id": "3cc1ecae",
   "metadata": {},
   "outputs": [
    {
     "name": "stdout",
     "output_type": "stream",
     "text": [
      "Since 1980 to 2014, assets under managment in Mutual Funds overall increased in 0.476 times.\n"
     ]
    }
   ],
   "source": [
    "range2_mutual = mutual.loc[2014] - mutual.loc[2007]\n",
    "inxtimes2_mutual= range2_mutual/mutual.loc[2007]\n",
    "inxtimes2_mutual = inxtimes2_mutual.astype(float)\n",
    "inxtimes2_mutual = round(inxtimes2_mutual,3)\n",
    "\n",
    "print(f\"Since 1980 to 2014, assets under managment in Mutual Funds overall increased in {inxtimes2_mutual.item()} times.\") "
   ]
  },
  {
   "cell_type": "markdown",
   "id": "dafa616a",
   "metadata": {},
   "source": [
    "## Since 2014 - 2024"
   ]
  },
  {
   "cell_type": "code",
   "execution_count": 24,
   "id": "b6d5ecfa",
   "metadata": {},
   "outputs": [
    {
     "name": "stdout",
     "output_type": "stream",
     "text": [
      "Since 1980 to 2014, assets under managment in Hedge Funds overall droped in 1.517 times.\n"
     ]
    }
   ],
   "source": [
    "range4_hedge = aum_hedge.loc[2024] - aum_hedge.loc[2014]\n",
    "inxtimes4_hedge = range4_hedge/aum_hedge.loc[2014]\n",
    "inxtimes4_hedge = inxtimes4_hedge.astype(float)\n",
    "inxtimes4_hedge = round(inxtimes4_hedge, 3)\n",
    "\n",
    "print(f\"Since 1980 to 2014, assets under managment in Hedge Funds overall droped in {inxtimes4_hedge.item()} times.\") "
   ]
  },
  {
   "cell_type": "code",
   "execution_count": 25,
   "id": "e82e8862",
   "metadata": {},
   "outputs": [
    {
     "name": "stdout",
     "output_type": "stream",
     "text": [
      "Since 1980 to 2014, assets under managment in Mutual Funds overall increased in 0.605 times.\n"
     ]
    }
   ],
   "source": [
    "range4_mutual = mutual.loc[2024] - mutual.loc[2014]\n",
    "inxtimes4_mutual= range4_mutual/mutual.loc[2014]\n",
    "inxtimes4_mutual = inxtimes4_mutual.astype(float)\n",
    "inxtimes4_mutual = round(inxtimes4_mutual,3)\n",
    "\n",
    "print(f\"Since 1980 to 2014, assets under managment in Mutual Funds overall increased in {inxtimes4_mutual.item()} times.\") "
   ]
  },
  {
   "cell_type": "markdown",
   "id": "15d4c853",
   "metadata": {},
   "source": [
    "## Since 1980 - 2024"
   ]
  },
  {
   "cell_type": "code",
   "execution_count": 26,
   "id": "c08a0b0c",
   "metadata": {},
   "outputs": [
    {
     "name": "stdout",
     "output_type": "stream",
     "text": [
      "Since 1980 to 2024, assets under managment in Hedge Funds overall increased in 26,677 times.\n"
     ]
    }
   ],
   "source": [
    "range3_hedge = aum_hedge.loc[2024] - aum_hedge.loc[1980]\n",
    "inxtimes3_hedge = range3_hedge/aum_hedge.loc[1980]\n",
    "inxtimes3_hedge = inxtimes3_hedge.astype(float)\n",
    "inxtimes3_hedge = round(inxtimes3_hedge)\n",
    "\n",
    "print(f\"Since 1980 to 2024, assets under managment in Hedge Funds overall increased in 26,677 times.\") "
   ]
  },
  {
   "cell_type": "code",
   "execution_count": 27,
   "id": "dd9232a3",
   "metadata": {},
   "outputs": [
    {
     "name": "stdout",
     "output_type": "stream",
     "text": [
      "Since 1980 to 2024, assets under managment in Mutual Funds overall increased in 333 times.\n"
     ]
    }
   ],
   "source": [
    "range3_mutual = mutual.loc[2024] - mutual.loc[1980]\n",
    "inxtimes3_mutual= range3_mutual/mutual.loc[1980]\n",
    "inxtimes3_mutual = inxtimes3_mutual.astype(float)\n",
    "inxtimes3_mutual = round(inxtimes3_mutual)\n",
    "\n",
    "print(f\"Since 1980 to 2024, assets under managment in Mutual Funds overall increased in 333 times.\") "
   ]
  },
  {
   "cell_type": "markdown",
   "id": "5e3bab07",
   "metadata": {},
   "source": [
    "## Standard diviations"
   ]
  },
  {
   "cell_type": "code",
   "execution_count": 28,
   "id": "2901e4be",
   "metadata": {
    "scrolled": true
   },
   "outputs": [
    {
     "data": {
      "text/plain": [
       "Average (billions)    1573.317398\n",
       "dtype: object"
      ]
     },
     "execution_count": 28,
     "metadata": {},
     "output_type": "execute_result"
    }
   ],
   "source": [
    "stdv_h = aum_hedge.std()\n",
    "stdv_h"
   ]
  },
  {
   "cell_type": "code",
   "execution_count": 29,
   "id": "dccd0542",
   "metadata": {
    "scrolled": true
   },
   "outputs": [
    {
     "data": {
      "text/plain": [
       "Assets (billions)    5951.761664\n",
       "dtype: float64"
      ]
     },
     "execution_count": 29,
     "metadata": {},
     "output_type": "execute_result"
    }
   ],
   "source": [
    "stdv_m = mutual.std()\n",
    "stdv_m"
   ]
  },
  {
   "cell_type": "markdown",
   "id": "6cc72811",
   "metadata": {},
   "source": [
    "# DataFrame: Hedge Funds vs. Mutual Funds Growth Over Different Periods"
   ]
  },
  {
   "cell_type": "code",
   "execution_count": 30,
   "id": "14b27402",
   "metadata": {},
   "outputs": [
    {
     "data": {
      "text/html": [
       "<div>\n",
       "<style scoped>\n",
       "    .dataframe tbody tr th:only-of-type {\n",
       "        vertical-align: middle;\n",
       "    }\n",
       "\n",
       "    .dataframe tbody tr th {\n",
       "        vertical-align: top;\n",
       "    }\n",
       "\n",
       "    .dataframe thead th {\n",
       "        text-align: right;\n",
       "    }\n",
       "</style>\n",
       "<table border=\"1\" class=\"dataframe\">\n",
       "  <thead>\n",
       "    <tr style=\"text-align: right;\">\n",
       "      <th></th>\n",
       "      <th>Hedge Funds</th>\n",
       "      <th>Mutual Funds</th>\n",
       "    </tr>\n",
       "  </thead>\n",
       "  <tbody>\n",
       "    <tr>\n",
       "      <th>1980-2007</th>\n",
       "      <td>10963.000</td>\n",
       "      <td>140.000</td>\n",
       "    </tr>\n",
       "    <tr>\n",
       "      <th>2007-2014</th>\n",
       "      <td>-0.033</td>\n",
       "      <td>0.476</td>\n",
       "    </tr>\n",
       "    <tr>\n",
       "      <th>2014 - 2024</th>\n",
       "      <td>1.517</td>\n",
       "      <td>0.605</td>\n",
       "    </tr>\n",
       "    <tr>\n",
       "      <th>1980 - 2024</th>\n",
       "      <td>26677.000</td>\n",
       "      <td>333.000</td>\n",
       "    </tr>\n",
       "  </tbody>\n",
       "</table>\n",
       "</div>"
      ],
      "text/plain": [
       "             Hedge Funds  Mutual Funds\n",
       "1980-2007      10963.000       140.000\n",
       "2007-2014         -0.033         0.476\n",
       "2014 - 2024        1.517         0.605\n",
       "1980 - 2024    26677.000       333.000"
      ]
     },
     "execution_count": 30,
     "metadata": {},
     "output_type": "execute_result"
    }
   ],
   "source": [
    "hedge_xtimes = [inxtimes1_hedge.item(), inxtimes2_hedge.item(), inxtimes4_hedge.item(), inxtimes3_hedge.item()]\n",
    "mutual_xtimes = [inxtimes1_mutual.item(), inxtimes2_mutual.item(),inxtimes4_mutual.item(), inxtimes3_mutual.item()]\n",
    "periods = [\"1980-2007\", \"2007-2014\", \"2014 - 2024\", \"1980 - 2024\"]\n",
    "\n",
    "periods_x = pd.DataFrame(hedge_xtimes, index = periods, columns=[\"Hedge Funds\"])\n",
    "periods_x[\"Mutual Funds\"] = mutual_xtimes\n",
    "periods_x"
   ]
  },
  {
   "cell_type": "code",
   "execution_count": 31,
   "id": "52f3079e",
   "metadata": {
    "scrolled": true
   },
   "outputs": [
    {
     "data": {
      "application/vnd.plotly.v1+json": {
       "config": {
        "plotlyServerURL": "https://plot.ly"
       },
       "data": [
        {
         "cells": {
          "align": "left",
          "fill": {
           "color": "#EFF4F4"
          },
          "font": {
           "color": "black",
           "family": "Courier New",
           "size": 16
          },
          "height": 30,
          "values": [
           [
            "1980-2007",
            "2007-2014",
            "2014 - 2024",
            "1980 - 2024"
           ],
           [
            10963,
            -0.033,
            1.517,
            26677
           ],
           [
            140,
            0.476,
            0.605,
            333
           ]
          ]
         },
         "header": {
          "align": "center",
          "fill": {
           "color": "#CCE3E3"
          },
          "font": {
           "color": "black",
           "family": "Courier New",
           "size": 16
          },
          "height": 40,
          "values": [
           "<b>Period</b>",
           "<b>Hedge Funds</b>",
           "<b>Mutual Funds</b>"
          ]
         },
         "type": "table"
        }
       ],
       "layout": {
        "annotations": [
         {
          "font": {
           "color": "black",
           "family": "Courier New",
           "size": 12
          },
          "showarrow": false,
          "text": "This table highlights the growth in assets of hedge funds and mutual funds across different periods.<br>From 1980 to 2007, hedge funds saw their assets under management increase by an extraordinary 10,963 times,<br>while mutual funds experienced a 140-fold growth. From 2007 to 2014, hedge funds' assets declined by 3.3%,<br>whereas mutual funds' assets rose by 47.6%. The forecasted growth for 2014 to 2024 is 151.7% for hedge funds<br>and 60.5% for mutual funds. Overall, from 1980 to 2024, hedge funds' assets have multiplied by 26,677 times,<br>while mutual funds' assets have grown by 333 times.",
          "x": 0.5,
          "xref": "paper",
          "y": 1.4,
          "yref": "paper"
         }
        ],
        "height": 500,
        "margin": {
         "t": 150
        },
        "shapes": [
         {
          "line": {
           "color": "#BF0D33",
           "width": 3
          },
          "type": "circle",
          "x0": 0.5,
          "x1": 0.3,
          "xref": "paper",
          "y0": 0.75,
          "y1": 0.5,
          "yref": "paper"
         }
        ],
        "template": {
         "data": {
          "bar": [
           {
            "error_x": {
             "color": "#2a3f5f"
            },
            "error_y": {
             "color": "#2a3f5f"
            },
            "marker": {
             "line": {
              "color": "#E5ECF6",
              "width": 0.5
             },
             "pattern": {
              "fillmode": "overlay",
              "size": 10,
              "solidity": 0.2
             }
            },
            "type": "bar"
           }
          ],
          "barpolar": [
           {
            "marker": {
             "line": {
              "color": "#E5ECF6",
              "width": 0.5
             },
             "pattern": {
              "fillmode": "overlay",
              "size": 10,
              "solidity": 0.2
             }
            },
            "type": "barpolar"
           }
          ],
          "carpet": [
           {
            "aaxis": {
             "endlinecolor": "#2a3f5f",
             "gridcolor": "white",
             "linecolor": "white",
             "minorgridcolor": "white",
             "startlinecolor": "#2a3f5f"
            },
            "baxis": {
             "endlinecolor": "#2a3f5f",
             "gridcolor": "white",
             "linecolor": "white",
             "minorgridcolor": "white",
             "startlinecolor": "#2a3f5f"
            },
            "type": "carpet"
           }
          ],
          "choropleth": [
           {
            "colorbar": {
             "outlinewidth": 0,
             "ticks": ""
            },
            "type": "choropleth"
           }
          ],
          "contour": [
           {
            "colorbar": {
             "outlinewidth": 0,
             "ticks": ""
            },
            "colorscale": [
             [
              0,
              "#0d0887"
             ],
             [
              0.1111111111111111,
              "#46039f"
             ],
             [
              0.2222222222222222,
              "#7201a8"
             ],
             [
              0.3333333333333333,
              "#9c179e"
             ],
             [
              0.4444444444444444,
              "#bd3786"
             ],
             [
              0.5555555555555556,
              "#d8576b"
             ],
             [
              0.6666666666666666,
              "#ed7953"
             ],
             [
              0.7777777777777778,
              "#fb9f3a"
             ],
             [
              0.8888888888888888,
              "#fdca26"
             ],
             [
              1,
              "#f0f921"
             ]
            ],
            "type": "contour"
           }
          ],
          "contourcarpet": [
           {
            "colorbar": {
             "outlinewidth": 0,
             "ticks": ""
            },
            "type": "contourcarpet"
           }
          ],
          "heatmap": [
           {
            "colorbar": {
             "outlinewidth": 0,
             "ticks": ""
            },
            "colorscale": [
             [
              0,
              "#0d0887"
             ],
             [
              0.1111111111111111,
              "#46039f"
             ],
             [
              0.2222222222222222,
              "#7201a8"
             ],
             [
              0.3333333333333333,
              "#9c179e"
             ],
             [
              0.4444444444444444,
              "#bd3786"
             ],
             [
              0.5555555555555556,
              "#d8576b"
             ],
             [
              0.6666666666666666,
              "#ed7953"
             ],
             [
              0.7777777777777778,
              "#fb9f3a"
             ],
             [
              0.8888888888888888,
              "#fdca26"
             ],
             [
              1,
              "#f0f921"
             ]
            ],
            "type": "heatmap"
           }
          ],
          "heatmapgl": [
           {
            "colorbar": {
             "outlinewidth": 0,
             "ticks": ""
            },
            "colorscale": [
             [
              0,
              "#0d0887"
             ],
             [
              0.1111111111111111,
              "#46039f"
             ],
             [
              0.2222222222222222,
              "#7201a8"
             ],
             [
              0.3333333333333333,
              "#9c179e"
             ],
             [
              0.4444444444444444,
              "#bd3786"
             ],
             [
              0.5555555555555556,
              "#d8576b"
             ],
             [
              0.6666666666666666,
              "#ed7953"
             ],
             [
              0.7777777777777778,
              "#fb9f3a"
             ],
             [
              0.8888888888888888,
              "#fdca26"
             ],
             [
              1,
              "#f0f921"
             ]
            ],
            "type": "heatmapgl"
           }
          ],
          "histogram": [
           {
            "marker": {
             "pattern": {
              "fillmode": "overlay",
              "size": 10,
              "solidity": 0.2
             }
            },
            "type": "histogram"
           }
          ],
          "histogram2d": [
           {
            "colorbar": {
             "outlinewidth": 0,
             "ticks": ""
            },
            "colorscale": [
             [
              0,
              "#0d0887"
             ],
             [
              0.1111111111111111,
              "#46039f"
             ],
             [
              0.2222222222222222,
              "#7201a8"
             ],
             [
              0.3333333333333333,
              "#9c179e"
             ],
             [
              0.4444444444444444,
              "#bd3786"
             ],
             [
              0.5555555555555556,
              "#d8576b"
             ],
             [
              0.6666666666666666,
              "#ed7953"
             ],
             [
              0.7777777777777778,
              "#fb9f3a"
             ],
             [
              0.8888888888888888,
              "#fdca26"
             ],
             [
              1,
              "#f0f921"
             ]
            ],
            "type": "histogram2d"
           }
          ],
          "histogram2dcontour": [
           {
            "colorbar": {
             "outlinewidth": 0,
             "ticks": ""
            },
            "colorscale": [
             [
              0,
              "#0d0887"
             ],
             [
              0.1111111111111111,
              "#46039f"
             ],
             [
              0.2222222222222222,
              "#7201a8"
             ],
             [
              0.3333333333333333,
              "#9c179e"
             ],
             [
              0.4444444444444444,
              "#bd3786"
             ],
             [
              0.5555555555555556,
              "#d8576b"
             ],
             [
              0.6666666666666666,
              "#ed7953"
             ],
             [
              0.7777777777777778,
              "#fb9f3a"
             ],
             [
              0.8888888888888888,
              "#fdca26"
             ],
             [
              1,
              "#f0f921"
             ]
            ],
            "type": "histogram2dcontour"
           }
          ],
          "mesh3d": [
           {
            "colorbar": {
             "outlinewidth": 0,
             "ticks": ""
            },
            "type": "mesh3d"
           }
          ],
          "parcoords": [
           {
            "line": {
             "colorbar": {
              "outlinewidth": 0,
              "ticks": ""
             }
            },
            "type": "parcoords"
           }
          ],
          "pie": [
           {
            "automargin": true,
            "type": "pie"
           }
          ],
          "scatter": [
           {
            "fillpattern": {
             "fillmode": "overlay",
             "size": 10,
             "solidity": 0.2
            },
            "type": "scatter"
           }
          ],
          "scatter3d": [
           {
            "line": {
             "colorbar": {
              "outlinewidth": 0,
              "ticks": ""
             }
            },
            "marker": {
             "colorbar": {
              "outlinewidth": 0,
              "ticks": ""
             }
            },
            "type": "scatter3d"
           }
          ],
          "scattercarpet": [
           {
            "marker": {
             "colorbar": {
              "outlinewidth": 0,
              "ticks": ""
             }
            },
            "type": "scattercarpet"
           }
          ],
          "scattergeo": [
           {
            "marker": {
             "colorbar": {
              "outlinewidth": 0,
              "ticks": ""
             }
            },
            "type": "scattergeo"
           }
          ],
          "scattergl": [
           {
            "marker": {
             "colorbar": {
              "outlinewidth": 0,
              "ticks": ""
             }
            },
            "type": "scattergl"
           }
          ],
          "scattermapbox": [
           {
            "marker": {
             "colorbar": {
              "outlinewidth": 0,
              "ticks": ""
             }
            },
            "type": "scattermapbox"
           }
          ],
          "scatterpolar": [
           {
            "marker": {
             "colorbar": {
              "outlinewidth": 0,
              "ticks": ""
             }
            },
            "type": "scatterpolar"
           }
          ],
          "scatterpolargl": [
           {
            "marker": {
             "colorbar": {
              "outlinewidth": 0,
              "ticks": ""
             }
            },
            "type": "scatterpolargl"
           }
          ],
          "scatterternary": [
           {
            "marker": {
             "colorbar": {
              "outlinewidth": 0,
              "ticks": ""
             }
            },
            "type": "scatterternary"
           }
          ],
          "surface": [
           {
            "colorbar": {
             "outlinewidth": 0,
             "ticks": ""
            },
            "colorscale": [
             [
              0,
              "#0d0887"
             ],
             [
              0.1111111111111111,
              "#46039f"
             ],
             [
              0.2222222222222222,
              "#7201a8"
             ],
             [
              0.3333333333333333,
              "#9c179e"
             ],
             [
              0.4444444444444444,
              "#bd3786"
             ],
             [
              0.5555555555555556,
              "#d8576b"
             ],
             [
              0.6666666666666666,
              "#ed7953"
             ],
             [
              0.7777777777777778,
              "#fb9f3a"
             ],
             [
              0.8888888888888888,
              "#fdca26"
             ],
             [
              1,
              "#f0f921"
             ]
            ],
            "type": "surface"
           }
          ],
          "table": [
           {
            "cells": {
             "fill": {
              "color": "#EBF0F8"
             },
             "line": {
              "color": "white"
             }
            },
            "header": {
             "fill": {
              "color": "#C8D4E3"
             },
             "line": {
              "color": "white"
             }
            },
            "type": "table"
           }
          ]
         },
         "layout": {
          "annotationdefaults": {
           "arrowcolor": "#2a3f5f",
           "arrowhead": 0,
           "arrowwidth": 1
          },
          "autotypenumbers": "strict",
          "coloraxis": {
           "colorbar": {
            "outlinewidth": 0,
            "ticks": ""
           }
          },
          "colorscale": {
           "diverging": [
            [
             0,
             "#8e0152"
            ],
            [
             0.1,
             "#c51b7d"
            ],
            [
             0.2,
             "#de77ae"
            ],
            [
             0.3,
             "#f1b6da"
            ],
            [
             0.4,
             "#fde0ef"
            ],
            [
             0.5,
             "#f7f7f7"
            ],
            [
             0.6,
             "#e6f5d0"
            ],
            [
             0.7,
             "#b8e186"
            ],
            [
             0.8,
             "#7fbc41"
            ],
            [
             0.9,
             "#4d9221"
            ],
            [
             1,
             "#276419"
            ]
           ],
           "sequential": [
            [
             0,
             "#0d0887"
            ],
            [
             0.1111111111111111,
             "#46039f"
            ],
            [
             0.2222222222222222,
             "#7201a8"
            ],
            [
             0.3333333333333333,
             "#9c179e"
            ],
            [
             0.4444444444444444,
             "#bd3786"
            ],
            [
             0.5555555555555556,
             "#d8576b"
            ],
            [
             0.6666666666666666,
             "#ed7953"
            ],
            [
             0.7777777777777778,
             "#fb9f3a"
            ],
            [
             0.8888888888888888,
             "#fdca26"
            ],
            [
             1,
             "#f0f921"
            ]
           ],
           "sequentialminus": [
            [
             0,
             "#0d0887"
            ],
            [
             0.1111111111111111,
             "#46039f"
            ],
            [
             0.2222222222222222,
             "#7201a8"
            ],
            [
             0.3333333333333333,
             "#9c179e"
            ],
            [
             0.4444444444444444,
             "#bd3786"
            ],
            [
             0.5555555555555556,
             "#d8576b"
            ],
            [
             0.6666666666666666,
             "#ed7953"
            ],
            [
             0.7777777777777778,
             "#fb9f3a"
            ],
            [
             0.8888888888888888,
             "#fdca26"
            ],
            [
             1,
             "#f0f921"
            ]
           ]
          },
          "colorway": [
           "#636efa",
           "#EF553B",
           "#00cc96",
           "#ab63fa",
           "#FFA15A",
           "#19d3f3",
           "#FF6692",
           "#B6E880",
           "#FF97FF",
           "#FECB52"
          ],
          "font": {
           "color": "#2a3f5f"
          },
          "geo": {
           "bgcolor": "white",
           "lakecolor": "white",
           "landcolor": "#E5ECF6",
           "showlakes": true,
           "showland": true,
           "subunitcolor": "white"
          },
          "hoverlabel": {
           "align": "left"
          },
          "hovermode": "closest",
          "mapbox": {
           "style": "light"
          },
          "paper_bgcolor": "white",
          "plot_bgcolor": "#E5ECF6",
          "polar": {
           "angularaxis": {
            "gridcolor": "white",
            "linecolor": "white",
            "ticks": ""
           },
           "bgcolor": "#E5ECF6",
           "radialaxis": {
            "gridcolor": "white",
            "linecolor": "white",
            "ticks": ""
           }
          },
          "scene": {
           "xaxis": {
            "backgroundcolor": "#E5ECF6",
            "gridcolor": "white",
            "gridwidth": 2,
            "linecolor": "white",
            "showbackground": true,
            "ticks": "",
            "zerolinecolor": "white"
           },
           "yaxis": {
            "backgroundcolor": "#E5ECF6",
            "gridcolor": "white",
            "gridwidth": 2,
            "linecolor": "white",
            "showbackground": true,
            "ticks": "",
            "zerolinecolor": "white"
           },
           "zaxis": {
            "backgroundcolor": "#E5ECF6",
            "gridcolor": "white",
            "gridwidth": 2,
            "linecolor": "white",
            "showbackground": true,
            "ticks": "",
            "zerolinecolor": "white"
           }
          },
          "shapedefaults": {
           "line": {
            "color": "#2a3f5f"
           }
          },
          "ternary": {
           "aaxis": {
            "gridcolor": "white",
            "linecolor": "white",
            "ticks": ""
           },
           "baxis": {
            "gridcolor": "white",
            "linecolor": "white",
            "ticks": ""
           },
           "bgcolor": "#E5ECF6",
           "caxis": {
            "gridcolor": "white",
            "linecolor": "white",
            "ticks": ""
           }
          },
          "title": {
           "x": 0.05
          },
          "xaxis": {
           "automargin": true,
           "gridcolor": "white",
           "linecolor": "white",
           "ticks": "",
           "title": {
            "standoff": 15
           },
           "zerolinecolor": "white",
           "zerolinewidth": 2
          },
          "yaxis": {
           "automargin": true,
           "gridcolor": "white",
           "linecolor": "white",
           "ticks": "",
           "title": {
            "standoff": 15
           },
           "zerolinecolor": "white",
           "zerolinewidth": 2
          }
         }
        },
        "title": {
         "font": {
          "color": "black",
          "size": 20
         },
         "text": "<b>Hedge Funds vs. Mutual Funds Growth Over Different Periods</b>",
         "x": 0.5,
         "y": 0.98
        },
        "width": 800
       }
      },
      "text/html": [
       "<div>                            <div id=\"87f1524a-ce3a-45aa-bf0a-15f8e5f2ffff\" class=\"plotly-graph-div\" style=\"height:500px; width:800px;\"></div>            <script type=\"text/javascript\">                require([\"plotly\"], function(Plotly) {                    window.PLOTLYENV=window.PLOTLYENV || {};                                    if (document.getElementById(\"87f1524a-ce3a-45aa-bf0a-15f8e5f2ffff\")) {                    Plotly.newPlot(                        \"87f1524a-ce3a-45aa-bf0a-15f8e5f2ffff\",                        [{\"cells\":{\"align\":\"left\",\"fill\":{\"color\":\"#EFF4F4\"},\"font\":{\"color\":\"black\",\"family\":\"Courier New\",\"size\":16},\"height\":30,\"values\":[[\"1980-2007\",\"2007-2014\",\"2014 - 2024\",\"1980 - 2024\"],[10963.0,-0.033,1.517,26677.0],[140.0,0.476,0.605,333.0]]},\"header\":{\"align\":\"center\",\"fill\":{\"color\":\"#CCE3E3\"},\"font\":{\"color\":\"black\",\"family\":\"Courier New\",\"size\":16},\"height\":40,\"values\":[\"\\u003cb\\u003ePeriod\\u003c\\u002fb\\u003e\",\"\\u003cb\\u003eHedge Funds\\u003c\\u002fb\\u003e\",\"\\u003cb\\u003eMutual Funds\\u003c\\u002fb\\u003e\"]},\"type\":\"table\"}],                        {\"template\":{\"data\":{\"histogram2dcontour\":[{\"type\":\"histogram2dcontour\",\"colorbar\":{\"outlinewidth\":0,\"ticks\":\"\"},\"colorscale\":[[0.0,\"#0d0887\"],[0.1111111111111111,\"#46039f\"],[0.2222222222222222,\"#7201a8\"],[0.3333333333333333,\"#9c179e\"],[0.4444444444444444,\"#bd3786\"],[0.5555555555555556,\"#d8576b\"],[0.6666666666666666,\"#ed7953\"],[0.7777777777777778,\"#fb9f3a\"],[0.8888888888888888,\"#fdca26\"],[1.0,\"#f0f921\"]]}],\"choropleth\":[{\"type\":\"choropleth\",\"colorbar\":{\"outlinewidth\":0,\"ticks\":\"\"}}],\"histogram2d\":[{\"type\":\"histogram2d\",\"colorbar\":{\"outlinewidth\":0,\"ticks\":\"\"},\"colorscale\":[[0.0,\"#0d0887\"],[0.1111111111111111,\"#46039f\"],[0.2222222222222222,\"#7201a8\"],[0.3333333333333333,\"#9c179e\"],[0.4444444444444444,\"#bd3786\"],[0.5555555555555556,\"#d8576b\"],[0.6666666666666666,\"#ed7953\"],[0.7777777777777778,\"#fb9f3a\"],[0.8888888888888888,\"#fdca26\"],[1.0,\"#f0f921\"]]}],\"heatmap\":[{\"type\":\"heatmap\",\"colorbar\":{\"outlinewidth\":0,\"ticks\":\"\"},\"colorscale\":[[0.0,\"#0d0887\"],[0.1111111111111111,\"#46039f\"],[0.2222222222222222,\"#7201a8\"],[0.3333333333333333,\"#9c179e\"],[0.4444444444444444,\"#bd3786\"],[0.5555555555555556,\"#d8576b\"],[0.6666666666666666,\"#ed7953\"],[0.7777777777777778,\"#fb9f3a\"],[0.8888888888888888,\"#fdca26\"],[1.0,\"#f0f921\"]]}],\"heatmapgl\":[{\"type\":\"heatmapgl\",\"colorbar\":{\"outlinewidth\":0,\"ticks\":\"\"},\"colorscale\":[[0.0,\"#0d0887\"],[0.1111111111111111,\"#46039f\"],[0.2222222222222222,\"#7201a8\"],[0.3333333333333333,\"#9c179e\"],[0.4444444444444444,\"#bd3786\"],[0.5555555555555556,\"#d8576b\"],[0.6666666666666666,\"#ed7953\"],[0.7777777777777778,\"#fb9f3a\"],[0.8888888888888888,\"#fdca26\"],[1.0,\"#f0f921\"]]}],\"contourcarpet\":[{\"type\":\"contourcarpet\",\"colorbar\":{\"outlinewidth\":0,\"ticks\":\"\"}}],\"contour\":[{\"type\":\"contour\",\"colorbar\":{\"outlinewidth\":0,\"ticks\":\"\"},\"colorscale\":[[0.0,\"#0d0887\"],[0.1111111111111111,\"#46039f\"],[0.2222222222222222,\"#7201a8\"],[0.3333333333333333,\"#9c179e\"],[0.4444444444444444,\"#bd3786\"],[0.5555555555555556,\"#d8576b\"],[0.6666666666666666,\"#ed7953\"],[0.7777777777777778,\"#fb9f3a\"],[0.8888888888888888,\"#fdca26\"],[1.0,\"#f0f921\"]]}],\"surface\":[{\"type\":\"surface\",\"colorbar\":{\"outlinewidth\":0,\"ticks\":\"\"},\"colorscale\":[[0.0,\"#0d0887\"],[0.1111111111111111,\"#46039f\"],[0.2222222222222222,\"#7201a8\"],[0.3333333333333333,\"#9c179e\"],[0.4444444444444444,\"#bd3786\"],[0.5555555555555556,\"#d8576b\"],[0.6666666666666666,\"#ed7953\"],[0.7777777777777778,\"#fb9f3a\"],[0.8888888888888888,\"#fdca26\"],[1.0,\"#f0f921\"]]}],\"mesh3d\":[{\"type\":\"mesh3d\",\"colorbar\":{\"outlinewidth\":0,\"ticks\":\"\"}}],\"scatter\":[{\"fillpattern\":{\"fillmode\":\"overlay\",\"size\":10,\"solidity\":0.2},\"type\":\"scatter\"}],\"parcoords\":[{\"type\":\"parcoords\",\"line\":{\"colorbar\":{\"outlinewidth\":0,\"ticks\":\"\"}}}],\"scatterpolargl\":[{\"type\":\"scatterpolargl\",\"marker\":{\"colorbar\":{\"outlinewidth\":0,\"ticks\":\"\"}}}],\"bar\":[{\"error_x\":{\"color\":\"#2a3f5f\"},\"error_y\":{\"color\":\"#2a3f5f\"},\"marker\":{\"line\":{\"color\":\"#E5ECF6\",\"width\":0.5},\"pattern\":{\"fillmode\":\"overlay\",\"size\":10,\"solidity\":0.2}},\"type\":\"bar\"}],\"scattergeo\":[{\"type\":\"scattergeo\",\"marker\":{\"colorbar\":{\"outlinewidth\":0,\"ticks\":\"\"}}}],\"scatterpolar\":[{\"type\":\"scatterpolar\",\"marker\":{\"colorbar\":{\"outlinewidth\":0,\"ticks\":\"\"}}}],\"histogram\":[{\"marker\":{\"pattern\":{\"fillmode\":\"overlay\",\"size\":10,\"solidity\":0.2}},\"type\":\"histogram\"}],\"scattergl\":[{\"type\":\"scattergl\",\"marker\":{\"colorbar\":{\"outlinewidth\":0,\"ticks\":\"\"}}}],\"scatter3d\":[{\"type\":\"scatter3d\",\"line\":{\"colorbar\":{\"outlinewidth\":0,\"ticks\":\"\"}},\"marker\":{\"colorbar\":{\"outlinewidth\":0,\"ticks\":\"\"}}}],\"scattermapbox\":[{\"type\":\"scattermapbox\",\"marker\":{\"colorbar\":{\"outlinewidth\":0,\"ticks\":\"\"}}}],\"scatterternary\":[{\"type\":\"scatterternary\",\"marker\":{\"colorbar\":{\"outlinewidth\":0,\"ticks\":\"\"}}}],\"scattercarpet\":[{\"type\":\"scattercarpet\",\"marker\":{\"colorbar\":{\"outlinewidth\":0,\"ticks\":\"\"}}}],\"carpet\":[{\"aaxis\":{\"endlinecolor\":\"#2a3f5f\",\"gridcolor\":\"white\",\"linecolor\":\"white\",\"minorgridcolor\":\"white\",\"startlinecolor\":\"#2a3f5f\"},\"baxis\":{\"endlinecolor\":\"#2a3f5f\",\"gridcolor\":\"white\",\"linecolor\":\"white\",\"minorgridcolor\":\"white\",\"startlinecolor\":\"#2a3f5f\"},\"type\":\"carpet\"}],\"table\":[{\"cells\":{\"fill\":{\"color\":\"#EBF0F8\"},\"line\":{\"color\":\"white\"}},\"header\":{\"fill\":{\"color\":\"#C8D4E3\"},\"line\":{\"color\":\"white\"}},\"type\":\"table\"}],\"barpolar\":[{\"marker\":{\"line\":{\"color\":\"#E5ECF6\",\"width\":0.5},\"pattern\":{\"fillmode\":\"overlay\",\"size\":10,\"solidity\":0.2}},\"type\":\"barpolar\"}],\"pie\":[{\"automargin\":true,\"type\":\"pie\"}]},\"layout\":{\"autotypenumbers\":\"strict\",\"colorway\":[\"#636efa\",\"#EF553B\",\"#00cc96\",\"#ab63fa\",\"#FFA15A\",\"#19d3f3\",\"#FF6692\",\"#B6E880\",\"#FF97FF\",\"#FECB52\"],\"font\":{\"color\":\"#2a3f5f\"},\"hovermode\":\"closest\",\"hoverlabel\":{\"align\":\"left\"},\"paper_bgcolor\":\"white\",\"plot_bgcolor\":\"#E5ECF6\",\"polar\":{\"bgcolor\":\"#E5ECF6\",\"angularaxis\":{\"gridcolor\":\"white\",\"linecolor\":\"white\",\"ticks\":\"\"},\"radialaxis\":{\"gridcolor\":\"white\",\"linecolor\":\"white\",\"ticks\":\"\"}},\"ternary\":{\"bgcolor\":\"#E5ECF6\",\"aaxis\":{\"gridcolor\":\"white\",\"linecolor\":\"white\",\"ticks\":\"\"},\"baxis\":{\"gridcolor\":\"white\",\"linecolor\":\"white\",\"ticks\":\"\"},\"caxis\":{\"gridcolor\":\"white\",\"linecolor\":\"white\",\"ticks\":\"\"}},\"coloraxis\":{\"colorbar\":{\"outlinewidth\":0,\"ticks\":\"\"}},\"colorscale\":{\"sequential\":[[0.0,\"#0d0887\"],[0.1111111111111111,\"#46039f\"],[0.2222222222222222,\"#7201a8\"],[0.3333333333333333,\"#9c179e\"],[0.4444444444444444,\"#bd3786\"],[0.5555555555555556,\"#d8576b\"],[0.6666666666666666,\"#ed7953\"],[0.7777777777777778,\"#fb9f3a\"],[0.8888888888888888,\"#fdca26\"],[1.0,\"#f0f921\"]],\"sequentialminus\":[[0.0,\"#0d0887\"],[0.1111111111111111,\"#46039f\"],[0.2222222222222222,\"#7201a8\"],[0.3333333333333333,\"#9c179e\"],[0.4444444444444444,\"#bd3786\"],[0.5555555555555556,\"#d8576b\"],[0.6666666666666666,\"#ed7953\"],[0.7777777777777778,\"#fb9f3a\"],[0.8888888888888888,\"#fdca26\"],[1.0,\"#f0f921\"]],\"diverging\":[[0,\"#8e0152\"],[0.1,\"#c51b7d\"],[0.2,\"#de77ae\"],[0.3,\"#f1b6da\"],[0.4,\"#fde0ef\"],[0.5,\"#f7f7f7\"],[0.6,\"#e6f5d0\"],[0.7,\"#b8e186\"],[0.8,\"#7fbc41\"],[0.9,\"#4d9221\"],[1,\"#276419\"]]},\"xaxis\":{\"gridcolor\":\"white\",\"linecolor\":\"white\",\"ticks\":\"\",\"title\":{\"standoff\":15},\"zerolinecolor\":\"white\",\"automargin\":true,\"zerolinewidth\":2},\"yaxis\":{\"gridcolor\":\"white\",\"linecolor\":\"white\",\"ticks\":\"\",\"title\":{\"standoff\":15},\"zerolinecolor\":\"white\",\"automargin\":true,\"zerolinewidth\":2},\"scene\":{\"xaxis\":{\"backgroundcolor\":\"#E5ECF6\",\"gridcolor\":\"white\",\"linecolor\":\"white\",\"showbackground\":true,\"ticks\":\"\",\"zerolinecolor\":\"white\",\"gridwidth\":2},\"yaxis\":{\"backgroundcolor\":\"#E5ECF6\",\"gridcolor\":\"white\",\"linecolor\":\"white\",\"showbackground\":true,\"ticks\":\"\",\"zerolinecolor\":\"white\",\"gridwidth\":2},\"zaxis\":{\"backgroundcolor\":\"#E5ECF6\",\"gridcolor\":\"white\",\"linecolor\":\"white\",\"showbackground\":true,\"ticks\":\"\",\"zerolinecolor\":\"white\",\"gridwidth\":2}},\"shapedefaults\":{\"line\":{\"color\":\"#2a3f5f\"}},\"annotationdefaults\":{\"arrowcolor\":\"#2a3f5f\",\"arrowhead\":0,\"arrowwidth\":1},\"geo\":{\"bgcolor\":\"white\",\"landcolor\":\"#E5ECF6\",\"subunitcolor\":\"white\",\"showland\":true,\"showlakes\":true,\"lakecolor\":\"white\"},\"title\":{\"x\":0.05},\"mapbox\":{\"style\":\"light\"}}},\"title\":{\"font\":{\"size\":20,\"color\":\"black\"},\"text\":\"\\u003cb\\u003eHedge Funds vs. Mutual Funds Growth Over Different Periods\\u003c\\u002fb\\u003e\",\"x\":0.5,\"y\":0.98},\"margin\":{\"t\":150},\"annotations\":[{\"font\":{\"color\":\"black\",\"family\":\"Courier New\",\"size\":12},\"showarrow\":false,\"text\":\"This table highlights the growth in assets of hedge funds and mutual funds across different periods.\\u003cbr\\u003eFrom 1980 to 2007, hedge funds saw their assets under management increase by an extraordinary 10,963 times,\\u003cbr\\u003ewhile mutual funds experienced a 140-fold growth. From 2007 to 2014, hedge funds' assets declined by 3.3%,\\u003cbr\\u003ewhereas mutual funds' assets rose by 47.6%. The forecasted growth for 2014 to 2024 is 151.7% for hedge funds\\u003cbr\\u003eand 60.5% for mutual funds. Overall, from 1980 to 2024, hedge funds' assets have multiplied by 26,677 times,\\u003cbr\\u003ewhile mutual funds' assets have grown by 333 times.\",\"x\":0.5,\"xref\":\"paper\",\"y\":1.4,\"yref\":\"paper\"}],\"width\":800,\"height\":500,\"shapes\":[{\"line\":{\"color\":\"#BF0D33\",\"width\":3},\"type\":\"circle\",\"x0\":0.5,\"x1\":0.3,\"xref\":\"paper\",\"y0\":0.75,\"y1\":0.5,\"yref\":\"paper\"}]},                        {\"responsive\": true}                    ).then(function(){\n",
       "                            \n",
       "var gd = document.getElementById('87f1524a-ce3a-45aa-bf0a-15f8e5f2ffff');\n",
       "var x = new MutationObserver(function (mutations, observer) {{\n",
       "        var display = window.getComputedStyle(gd).display;\n",
       "        if (!display || display === 'none') {{\n",
       "            console.log([gd, 'removed!']);\n",
       "            Plotly.purge(gd);\n",
       "            observer.disconnect();\n",
       "        }}\n",
       "}});\n",
       "\n",
       "// Listen for the removal of the full notebook cells\n",
       "var notebookContainer = gd.closest('#notebook-container');\n",
       "if (notebookContainer) {{\n",
       "    x.observe(notebookContainer, {childList: true});\n",
       "}}\n",
       "\n",
       "// Listen for the clearing of the current output cell\n",
       "var outputEl = gd.closest('.output');\n",
       "if (outputEl) {{\n",
       "    x.observe(outputEl, {childList: true});\n",
       "}}\n",
       "\n",
       "                        })                };                });            </script>        </div>"
      ]
     },
     "metadata": {},
     "output_type": "display_data"
    }
   ],
   "source": [
    "# Create the table\n",
    "fig = go.Figure(data=[go.Table(\n",
    "    \n",
    "    header=dict(values=[\"<b>Period</b>\", \"<b>Hedge Funds</b>\", \"<b>Mutual Funds</b>\"],\n",
    "                fill_color='#CCE3E3',\n",
    "                align='center',\n",
    "                font=dict(size=16, color='black',family=\"Courier New\"),  # Set font color to black\n",
    "                height=40),  # Increase header height\n",
    "    \n",
    "    cells=dict(values=[periods_x.index, periods_x[\"Hedge Funds\"], periods_x[\"Mutual Funds\"]],\n",
    "               fill_color='#EFF4F4',\n",
    "               align='left',\n",
    "               font=dict(size=16, color='black',family=\"Courier New\"),  # Set font color to black\n",
    "               height=30))  # Increase cell height\n",
    "])\n",
    "\n",
    "# Add title and description\n",
    "fig.update_layout(\n",
    "    title = dict(\n",
    "        text=\"<b>Hedge Funds vs. Mutual Funds Growth Over Different Periods</b>\",  # Add title\n",
    "        x=0.5,# Center the title\n",
    "        y=0.98,\n",
    "        font=dict(size=20, color='black')  # Set title font color to black\n",
    "    ),\n",
    "    margin=dict(t=150),\n",
    "    annotations=[dict(text=\"This table highlights the growth in assets of hedge funds and mutual funds across different periods.<br>\"\n",
    "             \"From 1980 to 2007, hedge funds saw their assets under management increase by an extraordinary 10,963 times,<br>\"\n",
    "             \"while mutual funds experienced a 140-fold growth. From 2007 to 2014, hedge funds' assets declined by 3.3%,<br>\"\n",
    "             \"whereas mutual funds' assets rose by 47.6%. The forecasted growth for 2014 to 2024 is 151.7% for hedge funds<br>\"\n",
    "             \"and 60.5% for mutual funds. Overall, from 1980 to 2024, hedge funds' assets have multiplied by 26,677 times,<br>\"\n",
    "             \"while mutual funds' assets have grown by 333 times.\",\n",
    "                      x=0.5, y=1.4, xref='paper', yref='paper', \n",
    "                      showarrow=False, font=dict(size=12, color='black',family=\"Courier New\"))],  # Set description font color to black\n",
    "    width=800,  # Set the width\n",
    "    height=500,  # Set the height to accommodate title and description\n",
    "    # Create circle to highlight info\n",
    "    shapes=[dict(\n",
    "        type=\"circle\",\n",
    "        xref=\"paper\", yref=\"paper\",\n",
    "        x0=0.5, y0=0.75,  # Position the center of the circle\n",
    "        x1=0.3, y1=0.5,  # Radius of the circle\n",
    "        line=dict(color=\"#BF0D33\", width=3),  # Red circle with border\n",
    "    )]\n",
    ")\n",
    "\n",
    "# Show the table\n",
    "fig.show()\n"
   ]
  },
  {
   "cell_type": "markdown",
   "id": "c5fa974b",
   "metadata": {},
   "source": [
    "### Author: Polina Solodrai\n",
    "@pplnsl"
   ]
  }
 ],
 "metadata": {
  "kernelspec": {
   "display_name": "Python 3 (ipykernel)",
   "language": "python",
   "name": "python3"
  },
  "language_info": {
   "codemirror_mode": {
    "name": "ipython",
    "version": 3
   },
   "file_extension": ".py",
   "mimetype": "text/x-python",
   "name": "python",
   "nbconvert_exporter": "python",
   "pygments_lexer": "ipython3",
   "version": "3.11.5"
  }
 },
 "nbformat": 4,
 "nbformat_minor": 5
}
